{
 "cells": [
  {
   "cell_type": "markdown",
   "id": "a1138668-3d68-4ff9-88aa-bc964123a698",
   "metadata": {},
   "source": [
    "# Machine Learning: Introdução a Classificação com SKLearn"
   ]
  },
  {
   "cell_type": "markdown",
   "id": "2a1f6d51-6812-4090-ab81-6d50566b8f01",
   "metadata": {},
   "source": [
    "[Link para o Curso](https://cursos.alura.com.br/course/machine-learning-introducao-a-classificacao-com-sklearn)"
   ]
  },
  {
   "cell_type": "code",
   "execution_count": 67,
   "id": "5477c4f5-3f24-439c-88d0-327d340c6025",
   "metadata": {},
   "outputs": [],
   "source": [
    "import warnings\n",
    "warnings.filterwarnings('ignore')"
   ]
  },
  {
   "cell_type": "markdown",
   "id": "79a16f90-2a96-4ca4-af22-b66353cf8c32",
   "metadata": {},
   "source": [
    "* Analisaremos quatro projetos e conjuntos de dados diferentes, sobre os quais tentaremos classificar informações em duas categorias distintas — isto é, usaremos algoritmos de machine learning para classificação"
   ]
  },
  {
   "cell_type": "markdown",
   "id": "8542867f-6fc6-4562-b3e5-3282252b9a23",
   "metadata": {},
   "source": [
    "## 1️⃣ Introdução a Classificação"
   ]
  },
  {
   "cell_type": "code",
   "execution_count": 71,
   "id": "fc1ed56d-8013-4e4f-a285-b6a533f85ee6",
   "metadata": {},
   "outputs": [
    {
     "data": {
      "text/html": [
       "<div>\n",
       "<style scoped>\n",
       "    .dataframe tbody tr th:only-of-type {\n",
       "        vertical-align: middle;\n",
       "    }\n",
       "\n",
       "    .dataframe tbody tr th {\n",
       "        vertical-align: top;\n",
       "    }\n",
       "\n",
       "    .dataframe thead th {\n",
       "        text-align: right;\n",
       "    }\n",
       "</style>\n",
       "<table border=\"1\" class=\"dataframe\">\n",
       "  <thead>\n",
       "    <tr style=\"text-align: right;\">\n",
       "      <th></th>\n",
       "      <th>home</th>\n",
       "      <th>how_it_works</th>\n",
       "      <th>contact</th>\n",
       "      <th>bought</th>\n",
       "    </tr>\n",
       "  </thead>\n",
       "  <tbody>\n",
       "    <tr>\n",
       "      <th>0</th>\n",
       "      <td>1</td>\n",
       "      <td>1</td>\n",
       "      <td>0</td>\n",
       "      <td>0</td>\n",
       "    </tr>\n",
       "    <tr>\n",
       "      <th>1</th>\n",
       "      <td>1</td>\n",
       "      <td>1</td>\n",
       "      <td>0</td>\n",
       "      <td>0</td>\n",
       "    </tr>\n",
       "    <tr>\n",
       "      <th>2</th>\n",
       "      <td>1</td>\n",
       "      <td>1</td>\n",
       "      <td>0</td>\n",
       "      <td>0</td>\n",
       "    </tr>\n",
       "    <tr>\n",
       "      <th>3</th>\n",
       "      <td>1</td>\n",
       "      <td>1</td>\n",
       "      <td>0</td>\n",
       "      <td>0</td>\n",
       "    </tr>\n",
       "    <tr>\n",
       "      <th>4</th>\n",
       "      <td>1</td>\n",
       "      <td>1</td>\n",
       "      <td>0</td>\n",
       "      <td>0</td>\n",
       "    </tr>\n",
       "  </tbody>\n",
       "</table>\n",
       "</div>"
      ],
      "text/plain": [
       "   home  how_it_works  contact  bought\n",
       "0     1             1        0       0\n",
       "1     1             1        0       0\n",
       "2     1             1        0       0\n",
       "3     1             1        0       0\n",
       "4     1             1        0       0"
      ]
     },
     "execution_count": 71,
     "metadata": {},
     "output_type": "execute_result"
    }
   ],
   "source": [
    "import pandas as pd\n",
    "\n",
    "uri = \"https://gist.githubusercontent.com/guilhermesilveira/2d2efa37d66b6c84a722ea627a897ced/raw/10968b997d885cbded1c92938c7a9912ba41c615/tracking.csv\"\n",
    "dados = pd.read_csv(uri)\n",
    "dados.head()"
   ]
  },
  {
   "cell_type": "code",
   "execution_count": 72,
   "id": "bcb5d0e0-9bed-489b-9a6f-bb442cbefdef",
   "metadata": {},
   "outputs": [],
   "source": [
    "mapa = {\n",
    "    \"home\" : \"principal\",\n",
    "    \"how_it_works\" : \"como_funciona\",\n",
    "    \"contact\" : \"contato\",\n",
    "    \"bought\" : \"comprou\"\n",
    "}\n",
    "dados = dados.rename(columns = mapa)"
   ]
  },
  {
   "cell_type": "code",
   "execution_count": 73,
   "id": "b313de81-c435-422c-a769-f78c3cd58872",
   "metadata": {},
   "outputs": [
    {
     "data": {
      "text/html": [
       "<div>\n",
       "<style scoped>\n",
       "    .dataframe tbody tr th:only-of-type {\n",
       "        vertical-align: middle;\n",
       "    }\n",
       "\n",
       "    .dataframe tbody tr th {\n",
       "        vertical-align: top;\n",
       "    }\n",
       "\n",
       "    .dataframe thead th {\n",
       "        text-align: right;\n",
       "    }\n",
       "</style>\n",
       "<table border=\"1\" class=\"dataframe\">\n",
       "  <thead>\n",
       "    <tr style=\"text-align: right;\">\n",
       "      <th></th>\n",
       "      <th>principal</th>\n",
       "      <th>como_funciona</th>\n",
       "      <th>contato</th>\n",
       "    </tr>\n",
       "  </thead>\n",
       "  <tbody>\n",
       "    <tr>\n",
       "      <th>0</th>\n",
       "      <td>1</td>\n",
       "      <td>1</td>\n",
       "      <td>0</td>\n",
       "    </tr>\n",
       "    <tr>\n",
       "      <th>1</th>\n",
       "      <td>1</td>\n",
       "      <td>1</td>\n",
       "      <td>0</td>\n",
       "    </tr>\n",
       "    <tr>\n",
       "      <th>2</th>\n",
       "      <td>1</td>\n",
       "      <td>1</td>\n",
       "      <td>0</td>\n",
       "    </tr>\n",
       "    <tr>\n",
       "      <th>3</th>\n",
       "      <td>1</td>\n",
       "      <td>1</td>\n",
       "      <td>0</td>\n",
       "    </tr>\n",
       "    <tr>\n",
       "      <th>4</th>\n",
       "      <td>1</td>\n",
       "      <td>1</td>\n",
       "      <td>0</td>\n",
       "    </tr>\n",
       "  </tbody>\n",
       "</table>\n",
       "</div>"
      ],
      "text/plain": [
       "   principal  como_funciona  contato\n",
       "0          1              1        0\n",
       "1          1              1        0\n",
       "2          1              1        0\n",
       "3          1              1        0\n",
       "4          1              1        0"
      ]
     },
     "execution_count": 73,
     "metadata": {},
     "output_type": "execute_result"
    }
   ],
   "source": [
    "x = dados[[\"principal\",\"como_funciona\",\"contato\"]]\n",
    "x.head()"
   ]
  },
  {
   "cell_type": "code",
   "execution_count": 74,
   "id": "3eefa579-0ef2-44ea-b4d9-ebe1698c5d22",
   "metadata": {},
   "outputs": [
    {
     "data": {
      "text/plain": [
       "0    0\n",
       "1    0\n",
       "2    0\n",
       "3    0\n",
       "4    0\n",
       "Name: comprou, dtype: int64"
      ]
     },
     "execution_count": 74,
     "metadata": {},
     "output_type": "execute_result"
    }
   ],
   "source": [
    "y = dados[\"comprou\"]\n",
    "y.head()"
   ]
  },
  {
   "cell_type": "code",
   "execution_count": 75,
   "id": "1e88208c-df9c-41c9-97b9-74880c77d889",
   "metadata": {},
   "outputs": [
    {
     "data": {
      "text/plain": [
       "(99, 4)"
      ]
     },
     "execution_count": 75,
     "metadata": {},
     "output_type": "execute_result"
    }
   ],
   "source": [
    "dados.shape"
   ]
  },
  {
   "cell_type": "code",
   "execution_count": 76,
   "id": "aa532444-b6d1-4094-a86c-ea43826a571d",
   "metadata": {},
   "outputs": [
    {
     "name": "stdout",
     "output_type": "stream",
     "text": [
      "Treinaremos com 75 elementos e testaremos com 24 elementos\n"
     ]
    }
   ],
   "source": [
    "treino_x = x[:75]\n",
    "treino_y = y[:75]\n",
    "teste_x = x[75:]\n",
    "teste_y = y[75:]\n",
    "\n",
    "print(\"Treinaremos com %d elementos e testaremos com %d elementos\" % (len(treino_x), len(teste_x)))"
   ]
  },
  {
   "cell_type": "code",
   "execution_count": 77,
   "id": "f7dd9d93-d7d8-45d2-a04a-f147c83dd06d",
   "metadata": {},
   "outputs": [
    {
     "name": "stdout",
     "output_type": "stream",
     "text": [
      "A acurácia foi 95.83%\n"
     ]
    }
   ],
   "source": [
    "from sklearn.svm import LinearSVC\n",
    "from sklearn.metrics import accuracy_score\n",
    "\n",
    "modelo = LinearSVC()\n",
    "modelo.fit(treino_x, treino_y)\n",
    "previsoes = modelo.predict(teste_x)\n",
    "\n",
    "acuracia = accuracy_score(teste_y, previsoes) * 100\n",
    "print(\"A acurácia foi %.2f%%\" % acuracia)"
   ]
  },
  {
   "cell_type": "markdown",
   "id": "d7044ec0-9e66-4eeb-901a-04c2443c878c",
   "metadata": {},
   "source": [
    "### Usando a biblioteca para separar treino e teste"
   ]
  },
  {
   "cell_type": "code",
   "execution_count": 79,
   "id": "1529fcf0-00f1-4ac1-9fcc-c49f41b7bf0b",
   "metadata": {},
   "outputs": [
    {
     "name": "stdout",
     "output_type": "stream",
     "text": [
      "Treinaremos com 74 elementos e testaremos com 25 elementos\n",
      "A acurácia foi 96.00%\n"
     ]
    }
   ],
   "source": [
    "from sklearn.model_selection import train_test_split\n",
    "from sklearn.svm import LinearSVC\n",
    "from sklearn.metrics import accuracy_score\n",
    "\n",
    "SEED = 20\n",
    "\n",
    "treino_x, teste_x, treino_y, teste_y = train_test_split(x, y, random_state = SEED, test_size = 0.25)\n",
    "print(\"Treinaremos com %d elementos e testaremos com %d elementos\" % (len(treino_x), len(teste_x)))\n",
    "\n",
    "modelo = LinearSVC()\n",
    "modelo.fit(treino_x, treino_y)\n",
    "previsoes = modelo.predict(teste_x)\n",
    "\n",
    "acuracia = accuracy_score(teste_y, previsoes) * 100\n",
    "print(\"A acurácia foi %.2f%%\" % acuracia)"
   ]
  },
  {
   "cell_type": "code",
   "execution_count": 80,
   "id": "237c6080-7200-4279-bdac-fdc130ab0432",
   "metadata": {},
   "outputs": [
    {
     "data": {
      "text/plain": [
       "0    47\n",
       "1    27\n",
       "Name: comprou, dtype: int64"
      ]
     },
     "execution_count": 80,
     "metadata": {},
     "output_type": "execute_result"
    }
   ],
   "source": [
    "treino_y.value_counts()"
   ]
  },
  {
   "cell_type": "code",
   "execution_count": 81,
   "id": "b4ffebf1-852f-4efc-94f2-1b090461c2f8",
   "metadata": {},
   "outputs": [
    {
     "data": {
      "text/plain": [
       "0    19\n",
       "1     6\n",
       "Name: comprou, dtype: int64"
      ]
     },
     "execution_count": 81,
     "metadata": {},
     "output_type": "execute_result"
    }
   ],
   "source": [
    "teste_y.value_counts()"
   ]
  },
  {
   "cell_type": "code",
   "execution_count": 82,
   "id": "d02690dd-95dc-4052-8110-85df57853ba6",
   "metadata": {},
   "outputs": [
    {
     "name": "stdout",
     "output_type": "stream",
     "text": [
      "Treinaremos com 74 elementos e testaremos com 25 elementos\n",
      "A acurácia foi 96.00%\n"
     ]
    }
   ],
   "source": [
    "from sklearn.model_selection import train_test_split\n",
    "from sklearn.svm import LinearSVC\n",
    "from sklearn.metrics import accuracy_score\n",
    "\n",
    "SEED = 20\n",
    "\n",
    "treino_x, teste_x, treino_y, teste_y = train_test_split(x, y,\n",
    "                                                         random_state = SEED, test_size = 0.25,\n",
    "                                                         stratify = y)\n",
    "print(\"Treinaremos com %d elementos e testaremos com %d elementos\" % (len(treino_x), len(teste_x)))\n",
    "\n",
    "modelo = LinearSVC()\n",
    "modelo.fit(treino_x, treino_y)\n",
    "previsoes = modelo.predict(teste_x)\n",
    "\n",
    "acuracia = accuracy_score(teste_y, previsoes) * 100\n",
    "print(\"A acurácia foi %.2f%%\" % acuracia)"
   ]
  },
  {
   "cell_type": "code",
   "execution_count": 83,
   "id": "71e7e57f-cbcd-4501-b8f0-289cb645629f",
   "metadata": {},
   "outputs": [
    {
     "data": {
      "text/plain": [
       "0    49\n",
       "1    25\n",
       "Name: comprou, dtype: int64"
      ]
     },
     "execution_count": 83,
     "metadata": {},
     "output_type": "execute_result"
    }
   ],
   "source": [
    "treino_y.value_counts()"
   ]
  },
  {
   "cell_type": "code",
   "execution_count": 84,
   "id": "8dcfb9a3-a544-4a05-9dbf-a086837268ba",
   "metadata": {},
   "outputs": [
    {
     "data": {
      "text/plain": [
       "0    17\n",
       "1     8\n",
       "Name: comprou, dtype: int64"
      ]
     },
     "execution_count": 84,
     "metadata": {},
     "output_type": "execute_result"
    }
   ],
   "source": [
    "teste_y.value_counts()"
   ]
  },
  {
   "cell_type": "markdown",
   "id": "50166eb5-9749-4a9d-84f8-6a3096525536",
   "metadata": {
    "tags": []
   },
   "source": [
    "## 2️⃣ Lendo Dados da Internet, Testes Replicáveis e Estratificação"
   ]
  },
  {
   "cell_type": "markdown",
   "id": "a365148b-97d9-4dba-a4cd-1bda2a9f1518",
   "metadata": {},
   "source": [
    "### Lendo Dados da Internet"
   ]
  },
  {
   "cell_type": "code",
   "execution_count": 2,
   "id": "c8d34d55-b84b-4c7c-85b2-67f473b0fcb7",
   "metadata": {},
   "outputs": [],
   "source": [
    "import pandas as pd \n",
    "\n",
    "uri='https://gist.githubusercontent.com/guilhermesilveira/2d2efa37d66b6c84a722ea627a897ced/raw/10968b997d885cbded1c92938c7a9912ba41c615/tracking.csv'\n",
    "\n",
    "dados = pd.read_csv(uri)"
   ]
  },
  {
   "cell_type": "code",
   "execution_count": 3,
   "id": "75b97f16-d87d-4541-83aa-edcb2559a6af",
   "metadata": {},
   "outputs": [
    {
     "data": {
      "text/html": [
       "<div>\n",
       "<style scoped>\n",
       "    .dataframe tbody tr th:only-of-type {\n",
       "        vertical-align: middle;\n",
       "    }\n",
       "\n",
       "    .dataframe tbody tr th {\n",
       "        vertical-align: top;\n",
       "    }\n",
       "\n",
       "    .dataframe thead th {\n",
       "        text-align: right;\n",
       "    }\n",
       "</style>\n",
       "<table border=\"1\" class=\"dataframe\">\n",
       "  <thead>\n",
       "    <tr style=\"text-align: right;\">\n",
       "      <th></th>\n",
       "      <th>principal</th>\n",
       "      <th>como_funciona</th>\n",
       "      <th>contato</th>\n",
       "      <th>comprou</th>\n",
       "    </tr>\n",
       "  </thead>\n",
       "  <tbody>\n",
       "    <tr>\n",
       "      <th>0</th>\n",
       "      <td>1</td>\n",
       "      <td>1</td>\n",
       "      <td>0</td>\n",
       "      <td>0</td>\n",
       "    </tr>\n",
       "    <tr>\n",
       "      <th>1</th>\n",
       "      <td>1</td>\n",
       "      <td>1</td>\n",
       "      <td>0</td>\n",
       "      <td>0</td>\n",
       "    </tr>\n",
       "    <tr>\n",
       "      <th>2</th>\n",
       "      <td>1</td>\n",
       "      <td>1</td>\n",
       "      <td>0</td>\n",
       "      <td>0</td>\n",
       "    </tr>\n",
       "    <tr>\n",
       "      <th>3</th>\n",
       "      <td>1</td>\n",
       "      <td>1</td>\n",
       "      <td>0</td>\n",
       "      <td>0</td>\n",
       "    </tr>\n",
       "    <tr>\n",
       "      <th>4</th>\n",
       "      <td>1</td>\n",
       "      <td>1</td>\n",
       "      <td>0</td>\n",
       "      <td>0</td>\n",
       "    </tr>\n",
       "  </tbody>\n",
       "</table>\n",
       "</div>"
      ],
      "text/plain": [
       "   principal  como_funciona  contato  comprou\n",
       "0          1              1        0        0\n",
       "1          1              1        0        0\n",
       "2          1              1        0        0\n",
       "3          1              1        0        0\n",
       "4          1              1        0        0"
      ]
     },
     "execution_count": 3,
     "metadata": {},
     "output_type": "execute_result"
    }
   ],
   "source": [
    "# Renomeando colunas\n",
    "dici = {\n",
    "        \"home\" : \"principal\",\n",
    "        \"how_it_works\" : \"como_funciona\",\n",
    "        \"contact\" : \"contato\",\n",
    "        \"bought\" : \"comprou\"\n",
    "        }\n",
    "\n",
    "dados = dados.rename(columns = dici)\n",
    "dados.head()"
   ]
  },
  {
   "cell_type": "markdown",
   "id": "cd410308-c977-4ed6-8247-7b1a4d1338bf",
   "metadata": {},
   "source": [
    "### Separando Conjunto de Dados"
   ]
  },
  {
   "cell_type": "code",
   "execution_count": 4,
   "id": "e3f9e5a0-fc7f-4a23-b0f6-9d83332ce0b0",
   "metadata": {},
   "outputs": [
    {
     "name": "stdout",
     "output_type": "stream",
     "text": [
      "Treinaremos o modelo com 75 elementos e testaremos com 24 elementos\n"
     ]
    }
   ],
   "source": [
    "x = dados[[\"principal\",\"como_funciona\",\"contato\"]]\n",
    "y = dados[\"comprou\"]\n",
    "\n",
    "treino_x = x[:75]\n",
    "treino_y = y[:75]\n",
    "teste_x = x[75:]\n",
    "teste_y = y[75:]\n",
    "\n",
    "print(\"Treinaremos o modelo com %d elementos e testaremos com %d elementos\" % (len(treino_x), len(teste_x)))"
   ]
  },
  {
   "cell_type": "code",
   "execution_count": 5,
   "id": "45e009ee-b5a7-4e6f-9161-f90f1af0be3c",
   "metadata": {},
   "outputs": [
    {
     "name": "stdout",
     "output_type": "stream",
     "text": [
      "A acurácia foi 95.83%\n"
     ]
    }
   ],
   "source": [
    "from sklearn.svm import LinearSVC\n",
    "from sklearn.metrics import accuracy_score\n",
    "\n",
    "# Importando o modelo\n",
    "modelo = LinearSVC()\n",
    "# Treinar o modelo com o conjunto de testes e treino\n",
    "modelo.fit(treino_x, treino_y)\n",
    "# Realizar um predição com o que modelo aprendeu\n",
    "previsoes = modelo.predict(teste_x)\n",
    "\n",
    "acuracia = accuracy_score(teste_y, previsoes) * 100\n",
    "print(\"A acurácia foi %.2f%%\" % acuracia)"
   ]
  },
  {
   "cell_type": "markdown",
   "id": "8b13768e-7094-4c36-a84c-3bd0a3a34369",
   "metadata": {},
   "source": [
    "### Trabalhando com a Biblioteca para Separar os Dados"
   ]
  },
  {
   "cell_type": "code",
   "execution_count": 6,
   "id": "83e80e4d-a675-4116-9501-690f614c1cfe",
   "metadata": {},
   "outputs": [
    {
     "name": "stdout",
     "output_type": "stream",
     "text": [
      "Treinaremos com 74 elementos e testaremos com 25 elementos\n",
      "A acurácia foi 96.00%\n",
      "Treinaremos com 74 elementos e testaremos com 25 elementos\n",
      "A acurácia foi 96.00%\n",
      "Treinaremos com 74 elementos e testaremos com 25 elementos\n",
      "A acurácia foi 100.00%\n",
      "Treinaremos com 74 elementos e testaremos com 25 elementos\n",
      "A acurácia foi 100.00%\n",
      "Treinaremos com 74 elementos e testaremos com 25 elementos\n",
      "A acurácia foi 92.00%\n"
     ]
    }
   ],
   "source": [
    "from sklearn.model_selection import train_test_split\n",
    "from sklearn.svm import LinearSVC\n",
    "from sklearn.metrics import accuracy_score\n",
    "\n",
    "for i in range (5):\n",
    "    treino_x, teste_x, treino_y, teste_y = train_test_split(x, y)\n",
    "    print(\"Treinaremos com %d elementos e testaremos com %d elementos\" % (len(treino_x), len(teste_x)))\n",
    "\n",
    "    modelo = LinearSVC()\n",
    "    modelo.fit(treino_x, treino_y)\n",
    "    previsoes = modelo.predict(teste_x)\n",
    "\n",
    "    acuracia = accuracy_score(teste_y, previsoes) * 100\n",
    "    print(\"A acurácia foi %.2f%%\" % acuracia)"
   ]
  },
  {
   "cell_type": "markdown",
   "id": "c64c5b49-6662-4e24-af1f-54c8fffa427f",
   "metadata": {
    "jp-MarkdownHeadingCollapsed": true,
    "tags": []
   },
   "source": [
    "### Testes Replicáveis"
   ]
  },
  {
   "cell_type": "markdown",
   "id": "3fa7f277-7604-46c6-91c9-bf69c05c66be",
   "metadata": {},
   "source": [
    "Oberve que se executado diversas vezes o treinamento do modelo, obtemos valores diferente de acurácia para as diferentes execuções.\n",
    "\n",
    "Isso acontece porque por padrão o método ```train_test_split``` realizada uma divisão aleatória do conjunto de dados. \n",
    "\n",
    "É importante, entretanto, que o nosso experimento possa ser replicável.\n",
    "***"
   ]
  },
  {
   "cell_type": "markdown",
   "id": "f4b05b77-3653-43ef-b99f-a803b7aa6cd1",
   "metadata": {},
   "source": [
    "o parâmetreo ```random_state``` controla o embaralhamento dos dados. \n",
    "\n",
    "Se você utilizasse um inteiro aqui, essa seleção de treino e teste seria replicável. \n",
    "\n",
    "Esse inteiro é chamado de **seed**"
   ]
  },
  {
   "cell_type": "code",
   "execution_count": 7,
   "id": "59d25c28-f8e6-490e-b44e-dbdf4f2c4956",
   "metadata": {},
   "outputs": [
    {
     "name": "stdout",
     "output_type": "stream",
     "text": [
      "Treinaremos com 74 elementos e testaremos com 25 elementos\n",
      "A acurácia foi 96.00%\n"
     ]
    }
   ],
   "source": [
    "from sklearn.model_selection import train_test_split\n",
    "from sklearn.svm import LinearSVC\n",
    "from sklearn.metrics import accuracy_score\n",
    "\n",
    "SEED = 20\n",
    "\n",
    "treino_x, teste_x, treino_y, teste_y = train_test_split(x, y,\n",
    "                                                         random_state = SEED, test_size = 0.25)\n",
    "print(\"Treinaremos com %d elementos e testaremos com %d elementos\" % (len(treino_x), len(teste_x)))\n",
    "\n",
    "modelo = LinearSVC()\n",
    "modelo.fit(treino_x, treino_y)\n",
    "previsoes = modelo.predict(teste_x)\n",
    "\n",
    "acuracia = accuracy_score(teste_y, previsoes) * 100\n",
    "print(\"A acurácia foi %.2f%%\" % acuracia)"
   ]
  },
  {
   "cell_type": "markdown",
   "id": "0df23dd9-95f6-442b-9f90-fb86ece9e9e2",
   "metadata": {
    "tags": []
   },
   "source": [
    "### Estratificação"
   ]
  },
  {
   "cell_type": "code",
   "execution_count": 8,
   "id": "d27fec1f-9a98-4ff2-86f6-40eb3e8a66c8",
   "metadata": {},
   "outputs": [
    {
     "name": "stdout",
     "output_type": "stream",
     "text": [
      "0    47\n",
      "1    27\n",
      "Name: comprou, dtype: int64\n",
      "0    19\n",
      "1     6\n",
      "Name: comprou, dtype: int64\n"
     ]
    }
   ],
   "source": [
    "# Verificando Proporção\n",
    "print(treino_y.value_counts())\n",
    "print(teste_y.value_counts())"
   ]
  },
  {
   "cell_type": "markdown",
   "id": "b1bf16e7-c388-48ca-9090-12e9b44836ff",
   "metadata": {},
   "source": [
    "Observando a proporção de valores do 0 e 1 nos conjuntos de teste e treino verificamos um desbalanceamento entre a proporção de classes, essa desproporção pode levar o modelo a realizar predições erradas.\n",
    "\n",
    "É recomendado que conjunto de dados seja separado de forma que a proporção de cada classe nos conjuntos de treino e teste sejam aproximadamente iguais a de todo o conjunto de dados. Esse processo é chamado de ```estratificação```"
   ]
  },
  {
   "cell_type": "code",
   "execution_count": 9,
   "id": "785afe4e-64cb-4498-bbf3-8773f72cb47a",
   "metadata": {},
   "outputs": [
    {
     "name": "stdout",
     "output_type": "stream",
     "text": [
      "Treinaremos com 74 elementos e testaremos com 25 elementos\n",
      "A acurácia foi 96.00%\n"
     ]
    }
   ],
   "source": [
    "from sklearn.model_selection import train_test_split\n",
    "from sklearn.svm import LinearSVC\n",
    "from sklearn.metrics import accuracy_score\n",
    "\n",
    "SEED = 20\n",
    "\n",
    "# Estratificar o modelo a partir da variável y\n",
    "treino_x, teste_x, treino_y, teste_y = train_test_split(x, y,\n",
    "                                                         random_state = SEED, test_size = 0.25,\n",
    "                                                         stratify = y)\n",
    "print(\"Treinaremos com %d elementos e testaremos com %d elementos\" % (len(treino_x), len(teste_x)))\n",
    "\n",
    "modelo = LinearSVC()\n",
    "modelo.fit(treino_x, treino_y)\n",
    "previsoes = modelo.predict(teste_x)\n",
    "\n",
    "acuracia = accuracy_score(teste_y, previsoes) * 100\n",
    "print(\"A acurácia foi %.2f%%\" % acuracia)"
   ]
  },
  {
   "cell_type": "code",
   "execution_count": 10,
   "id": "856cd1ee-91d5-4195-ab55-6213c4ff0cd8",
   "metadata": {},
   "outputs": [
    {
     "name": "stdout",
     "output_type": "stream",
     "text": [
      "0    49\n",
      "1    25\n",
      "Name: comprou, dtype: int64\n",
      "0    17\n",
      "1     8\n",
      "Name: comprou, dtype: int64\n"
     ]
    }
   ],
   "source": [
    "# Verificando Proporção\n",
    "print(treino_y.value_counts())\n",
    "print(teste_y.value_counts())"
   ]
  },
  {
   "cell_type": "markdown",
   "id": "36a6a35b-d08c-4840-b6e7-7ab5fc2251eb",
   "metadata": {
    "jp-MarkdownHeadingCollapsed": true,
    "tags": []
   },
   "source": [
    "## 3️⃣ Projeto de Baixa Dimensionalidade e Baseline"
   ]
  },
  {
   "cell_type": "markdown",
   "id": "e1c73389-2cf8-418b-b857-18558b55a361",
   "metadata": {},
   "source": [
    "### Testando em duas dimensões"
   ]
  },
  {
   "cell_type": "code",
   "execution_count": 11,
   "id": "ae877256-aef8-4276-b85d-77622ca05892",
   "metadata": {},
   "outputs": [
    {
     "data": {
      "text/html": [
       "<div>\n",
       "<style scoped>\n",
       "    .dataframe tbody tr th:only-of-type {\n",
       "        vertical-align: middle;\n",
       "    }\n",
       "\n",
       "    .dataframe tbody tr th {\n",
       "        vertical-align: top;\n",
       "    }\n",
       "\n",
       "    .dataframe thead th {\n",
       "        text-align: right;\n",
       "    }\n",
       "</style>\n",
       "<table border=\"1\" class=\"dataframe\">\n",
       "  <thead>\n",
       "    <tr style=\"text-align: right;\">\n",
       "      <th></th>\n",
       "      <th>unfinished</th>\n",
       "      <th>expected_hours</th>\n",
       "      <th>price</th>\n",
       "    </tr>\n",
       "  </thead>\n",
       "  <tbody>\n",
       "    <tr>\n",
       "      <th>0</th>\n",
       "      <td>1</td>\n",
       "      <td>26</td>\n",
       "      <td>192</td>\n",
       "    </tr>\n",
       "    <tr>\n",
       "      <th>1</th>\n",
       "      <td>1</td>\n",
       "      <td>88</td>\n",
       "      <td>9015</td>\n",
       "    </tr>\n",
       "    <tr>\n",
       "      <th>2</th>\n",
       "      <td>1</td>\n",
       "      <td>89</td>\n",
       "      <td>2577</td>\n",
       "    </tr>\n",
       "    <tr>\n",
       "      <th>3</th>\n",
       "      <td>1</td>\n",
       "      <td>42</td>\n",
       "      <td>275</td>\n",
       "    </tr>\n",
       "    <tr>\n",
       "      <th>4</th>\n",
       "      <td>1</td>\n",
       "      <td>39</td>\n",
       "      <td>170</td>\n",
       "    </tr>\n",
       "  </tbody>\n",
       "</table>\n",
       "</div>"
      ],
      "text/plain": [
       "   unfinished  expected_hours  price\n",
       "0           1              26    192\n",
       "1           1              88   9015\n",
       "2           1              89   2577\n",
       "3           1              42    275\n",
       "4           1              39    170"
      ]
     },
     "execution_count": 11,
     "metadata": {},
     "output_type": "execute_result"
    }
   ],
   "source": [
    "import pandas as pd\n",
    "\n",
    "uri = \"https://gist.githubusercontent.com/guilhermesilveira/1b7d5475863c15f484ac495bd70975cf/raw/16aff7a0aee67e7c100a2a48b676a2d2d142f646/projects.csv\"\n",
    "dados = pd.read_csv(uri)\n",
    "dados.head()"
   ]
  },
  {
   "cell_type": "code",
   "execution_count": 12,
   "id": "6e0be135-baf1-4fc3-828d-025ce03fdab2",
   "metadata": {},
   "outputs": [
    {
     "data": {
      "text/html": [
       "<div>\n",
       "<style scoped>\n",
       "    .dataframe tbody tr th:only-of-type {\n",
       "        vertical-align: middle;\n",
       "    }\n",
       "\n",
       "    .dataframe tbody tr th {\n",
       "        vertical-align: top;\n",
       "    }\n",
       "\n",
       "    .dataframe thead th {\n",
       "        text-align: right;\n",
       "    }\n",
       "</style>\n",
       "<table border=\"1\" class=\"dataframe\">\n",
       "  <thead>\n",
       "    <tr style=\"text-align: right;\">\n",
       "      <th></th>\n",
       "      <th>nao_finalizado</th>\n",
       "      <th>horas_esperadas</th>\n",
       "      <th>preco</th>\n",
       "    </tr>\n",
       "  </thead>\n",
       "  <tbody>\n",
       "    <tr>\n",
       "      <th>0</th>\n",
       "      <td>1</td>\n",
       "      <td>26</td>\n",
       "      <td>192</td>\n",
       "    </tr>\n",
       "    <tr>\n",
       "      <th>1</th>\n",
       "      <td>1</td>\n",
       "      <td>88</td>\n",
       "      <td>9015</td>\n",
       "    </tr>\n",
       "    <tr>\n",
       "      <th>2</th>\n",
       "      <td>1</td>\n",
       "      <td>89</td>\n",
       "      <td>2577</td>\n",
       "    </tr>\n",
       "    <tr>\n",
       "      <th>3</th>\n",
       "      <td>1</td>\n",
       "      <td>42</td>\n",
       "      <td>275</td>\n",
       "    </tr>\n",
       "    <tr>\n",
       "      <th>4</th>\n",
       "      <td>1</td>\n",
       "      <td>39</td>\n",
       "      <td>170</td>\n",
       "    </tr>\n",
       "  </tbody>\n",
       "</table>\n",
       "</div>"
      ],
      "text/plain": [
       "   nao_finalizado  horas_esperadas  preco\n",
       "0               1               26    192\n",
       "1               1               88   9015\n",
       "2               1               89   2577\n",
       "3               1               42    275\n",
       "4               1               39    170"
      ]
     },
     "execution_count": 12,
     "metadata": {},
     "output_type": "execute_result"
    }
   ],
   "source": [
    "# Renomear nome das coluna\n",
    "dic_renomear = {\n",
    "    'expected_hours' : 'horas_esperadas',\n",
    "    'price' : 'preco',\n",
    "    'unfinished' : 'nao_finalizado'\n",
    "}\n",
    "dados = dados.rename(columns = dic_renomear)\n",
    "dados.head()"
   ]
  },
  {
   "cell_type": "code",
   "execution_count": 13,
   "id": "fc793589-e028-4895-b3e7-012a1328492c",
   "metadata": {},
   "outputs": [
    {
     "data": {
      "text/html": [
       "<div>\n",
       "<style scoped>\n",
       "    .dataframe tbody tr th:only-of-type {\n",
       "        vertical-align: middle;\n",
       "    }\n",
       "\n",
       "    .dataframe tbody tr th {\n",
       "        vertical-align: top;\n",
       "    }\n",
       "\n",
       "    .dataframe thead th {\n",
       "        text-align: right;\n",
       "    }\n",
       "</style>\n",
       "<table border=\"1\" class=\"dataframe\">\n",
       "  <thead>\n",
       "    <tr style=\"text-align: right;\">\n",
       "      <th></th>\n",
       "      <th>nao_finalizado</th>\n",
       "      <th>horas_esperadas</th>\n",
       "      <th>preco</th>\n",
       "      <th>finalizado</th>\n",
       "    </tr>\n",
       "  </thead>\n",
       "  <tbody>\n",
       "    <tr>\n",
       "      <th>0</th>\n",
       "      <td>1</td>\n",
       "      <td>26</td>\n",
       "      <td>192</td>\n",
       "      <td>0</td>\n",
       "    </tr>\n",
       "    <tr>\n",
       "      <th>1</th>\n",
       "      <td>1</td>\n",
       "      <td>88</td>\n",
       "      <td>9015</td>\n",
       "      <td>0</td>\n",
       "    </tr>\n",
       "    <tr>\n",
       "      <th>2</th>\n",
       "      <td>1</td>\n",
       "      <td>89</td>\n",
       "      <td>2577</td>\n",
       "      <td>0</td>\n",
       "    </tr>\n",
       "    <tr>\n",
       "      <th>3</th>\n",
       "      <td>1</td>\n",
       "      <td>42</td>\n",
       "      <td>275</td>\n",
       "      <td>0</td>\n",
       "    </tr>\n",
       "    <tr>\n",
       "      <th>4</th>\n",
       "      <td>1</td>\n",
       "      <td>39</td>\n",
       "      <td>170</td>\n",
       "      <td>0</td>\n",
       "    </tr>\n",
       "  </tbody>\n",
       "</table>\n",
       "</div>"
      ],
      "text/plain": [
       "   nao_finalizado  horas_esperadas  preco  finalizado\n",
       "0               1               26    192           0\n",
       "1               1               88   9015           0\n",
       "2               1               89   2577           0\n",
       "3               1               42    275           0\n",
       "4               1               39    170           0"
      ]
     },
     "execution_count": 13,
     "metadata": {},
     "output_type": "execute_result"
    }
   ],
   "source": [
    "# Trocar a feature para algo9 natural\n",
    "trocar = {\n",
    "    0 : 1,\n",
    "    1 : 0\n",
    "}\n",
    "dados['finalizado'] = dados.nao_finalizado.map(trocar)\n",
    "dados.head()"
   ]
  },
  {
   "cell_type": "code",
   "execution_count": 14,
   "id": "b2a0b034-6c24-4212-b772-d24c9d3ffee7",
   "metadata": {},
   "outputs": [
    {
     "data": {
      "text/plain": [
       "<AxesSubplot:xlabel='horas_esperadas', ylabel='preco'>"
      ]
     },
     "execution_count": 14,
     "metadata": {},
     "output_type": "execute_result"
    },
    {
     "data": {
      "image/png": "[encoded data removed]",
      "text/plain": [
       "<Figure size 432x288 with 1 Axes>"
      ]
     },
     "metadata": {
      "needs_background": "light"
     },
     "output_type": "display_data"
    }
   ],
   "source": [
    "import seaborn as sns\n",
    "\n",
    "sns.scatterplot(x=\"horas_esperadas\", y=\"preco\", data=dados)"
   ]
  },
  {
   "cell_type": "code",
   "execution_count": 15,
   "id": "e3b41f32-af92-4534-b705-73f3c5a9c422",
   "metadata": {},
   "outputs": [
    {
     "data": {
      "text/plain": [
       "<AxesSubplot:xlabel='horas_esperadas', ylabel='preco'>"
      ]
     },
     "execution_count": 15,
     "metadata": {},
     "output_type": "execute_result"
    },
    {
     "data": {
      "image/png": "[encoded data removed]",
      "text/plain": [
       "<Figure size 432x288 with 1 Axes>"
      ]
     },
     "metadata": {
      "needs_background": "light"
     },
     "output_type": "display_data"
    }
   ],
   "source": [
    "# Pinta os pontos de acordo com a coluna finalizado\n",
    "sns.scatterplot(x=\"horas_esperadas\", y=\"preco\", hue=\"finalizado\", data=dados)"
   ]
  },
  {
   "cell_type": "code",
   "execution_count": 16,
   "id": "6f34f645-95c4-401d-8460-df6ae877ec25",
   "metadata": {},
   "outputs": [
    {
     "data": {
      "text/plain": [
       "<seaborn.axisgrid.FacetGrid at 0x24bea0fa8e0>"
      ]
     },
     "execution_count": 16,
     "metadata": {},
     "output_type": "execute_result"
    },
    {
     "data": {
      "image/png": "[encoded data removed]",
      "text/plain": [
       "<Figure size 776.375x360 with 2 Axes>"
      ]
     },
     "metadata": {
      "needs_background": "light"
     },
     "output_type": "display_data"
    }
   ],
   "source": [
    "# Colunas de plots diferentes para os projetos finalizados ou não\n",
    "sns.relplot(x=\"horas_esperadas\", y=\"preco\", hue=\"finalizado\", col=\"finalizado\", data=dados)"
   ]
  },
  {
   "cell_type": "code",
   "execution_count": 17,
   "id": "05c1c41a-9df5-46de-94b4-c30f9fa6b9a3",
   "metadata": {},
   "outputs": [],
   "source": [
    "x = dados[['horas_esperadas', 'preco']]\n",
    "y = dados['finalizado']"
   ]
  },
  {
   "cell_type": "code",
   "execution_count": 18,
   "id": "4e9b9eb2-ce6d-4353-8ce3-837d0874ad33",
   "metadata": {},
   "outputs": [
    {
     "name": "stdout",
     "output_type": "stream",
     "text": [
      "Treinaremos com 1617 elementos e testaremos com 540 elementos\n",
      "A acurácia foi 47.41%\n"
     ]
    }
   ],
   "source": [
    "from sklearn.model_selection import train_test_split\n",
    "from sklearn.svm import LinearSVC\n",
    "from sklearn.metrics import accuracy_score\n",
    "\n",
    "SEED = 20\n",
    "\n",
    "# Treinar o conjunto de dados\n",
    "treino_x, teste_x, treino_y, teste_y = train_test_split(x, y,\n",
    "                                                         random_state = SEED, test_size = 0.25,\n",
    "                                                         stratify = y)\n",
    "print(\"Treinaremos com %d elementos e testaremos com %d elementos\" % (len(treino_x), len(teste_x)))\n",
    "\n",
    "# Treinar o modelo\n",
    "modelo = LinearSVC()\n",
    "modelo.fit(treino_x, treino_y)\n",
    "\n",
    "# Prevendo\n",
    "previsoes = modelo.predict(teste_x)\n",
    "\n",
    "acuracia = accuracy_score(teste_y, previsoes) * 100\n",
    "print(\"A acurácia foi %.2f%%\" % acuracia)"
   ]
  },
  {
   "cell_type": "code",
   "execution_count": 19,
   "id": "81e6bf7a-dedb-4f3a-b15f-0f6afa994052",
   "metadata": {},
   "outputs": [
    {
     "name": "stdout",
     "output_type": "stream",
     "text": [
      "A acurácia do algoritmo de baseline foi 52.59%\n"
     ]
    }
   ],
   "source": [
    "import numpy as np\n",
    "previsoes_de_base = np.ones(540)\n",
    "acuracia = accuracy_score(teste_y, previsoes_de_base) * 100\n",
    "print(\"A acurácia do algoritmo de baseline foi %.2f%%\" % acuracia)"
   ]
  },
  {
   "cell_type": "markdown",
   "id": "96971de3-4de8-4856-b957-c84eccc54ff0",
   "metadata": {},
   "source": [
    "### Curva de Decisão"
   ]
  },
  {
   "cell_type": "markdown",
   "id": "4322247e-436e-4d62-add8-889f423f2d8d",
   "metadata": {},
   "source": [
    "* Quando estamos trabalhando com duas dimensões (e somente nesses casos), podemos colorir todos os pixels do gráfico de acordo com as possíveis previsões do classificador que criamos\n",
    "* O algoritmo deve ser capaz de aprender a curva ascendente que vemos no gráfico: quanto mais bem pago e com maior tempo de elaboração, maior chance do projeto ser de fato concluído. "
   ]
  },
  {
   "cell_type": "code",
   "execution_count": 20,
   "id": "16cae703-36b0-44b3-83ea-a983fa56f627",
   "metadata": {},
   "outputs": [
    {
     "name": "stdout",
     "output_type": "stream",
     "text": [
      "1 100 101 27738\n"
     ]
    }
   ],
   "source": [
    "x_min = teste_x.horas_esperadas.min()\n",
    "x_max = teste_x.horas_esperadas.max()\n",
    "y_min = teste_x.preco.min()\n",
    "y_max = teste_x.preco.max()\n",
    "print(x_min, x_max,y_min,y_max)"
   ]
  },
  {
   "cell_type": "code",
   "execution_count": 21,
   "id": "e88fc02f-7c88-4cd5-900d-a1131b72e02b",
   "metadata": {},
   "outputs": [],
   "source": [
    "# definiremos quantos pixels haverá em cada dimensão\n",
    "pixels = 100\n",
    "eixo_x = np.arange(x_min, x_max, (x_max - x_min)/ pixels)\n",
    "eixo_y = np.arange(y_min, y_max, (y_max - y_min)/ pixels)"
   ]
  },
  {
   "cell_type": "code",
   "execution_count": 22,
   "id": "712b424c-525e-408a-a2e7-2862b2b0a40d",
   "metadata": {},
   "outputs": [
    {
     "data": {
      "text/plain": [
       "array([[1.000000e+00, 1.010000e+02],\n",
       "       [1.990000e+00, 1.010000e+02],\n",
       "       [2.980000e+00, 1.010000e+02],\n",
       "       ...,\n",
       "       [9.703000e+01, 2.746163e+04],\n",
       "       [9.802000e+01, 2.746163e+04],\n",
       "       [9.901000e+01, 2.746163e+04]])"
      ]
     },
     "execution_count": 22,
     "metadata": {},
     "output_type": "execute_result"
    }
   ],
   "source": [
    "# criarmos um grid entre os dois eixos\n",
    "# multiplicando as opções de acordo com as diferentes possibilidade de custo de projeto e tempo de execução\n",
    "xx, yy = np.meshgrid(eixo_x, eixo_y)\n",
    "pontos = np.c_[xx.ravel(), yy.ravel()]\n",
    "pontos"
   ]
  },
  {
   "cell_type": "code",
   "execution_count": 23,
   "id": "ddc2fd57-bb43-44b7-9449-84f5fcc1c41f",
   "metadata": {},
   "outputs": [
    {
     "data": {
      "text/plain": [
       "array([[0, 0, 0, ..., 0, 0, 0],\n",
       "       [0, 0, 0, ..., 0, 0, 0],\n",
       "       [0, 0, 0, ..., 0, 0, 0],\n",
       "       ...,\n",
       "       [0, 0, 0, ..., 0, 0, 0],\n",
       "       [0, 0, 0, ..., 0, 0, 0],\n",
       "       [0, 0, 0, ..., 0, 0, 0]], dtype=int64)"
      ]
     },
     "execution_count": 23,
     "metadata": {},
     "output_type": "execute_result"
    }
   ],
   "source": [
    "# A partir do modelo, fazer as previsões predict() para todos esses pontos\n",
    "Z = modelo.predict(pontos)\n",
    "Z = Z.reshape(xx.shape)\n",
    "Z"
   ]
  },
  {
   "cell_type": "code",
   "execution_count": 24,
   "id": "b4266a0b-c763-4afc-a586-01f24f9fc7d9",
   "metadata": {},
   "outputs": [
    {
     "data": {
      "text/plain": [
       "<matplotlib.collections.PathCollection at 0x24bea21e520>"
      ]
     },
     "execution_count": 24,
     "metadata": {},
     "output_type": "execute_result"
    },
    {
     "data": {
      "image/png": "[encoded data removed]",
      "text/plain": [
       "<Figure size 432x288 with 1 Axes>"
      ]
     },
     "metadata": {
      "needs_background": "light"
     },
     "output_type": "display_data"
    }
   ],
   "source": [
    "# Plotar os dados\n",
    "import matplotlib.pyplot as plt\n",
    "\n",
    "plt.scatter(teste_x.horas_esperadas, teste_x.preco, c=teste_y)"
   ]
  },
  {
   "cell_type": "code",
   "execution_count": 25,
   "id": "aaaa03c2-3ad1-4039-8a92-733315329f29",
   "metadata": {},
   "outputs": [
    {
     "data": {
      "text/plain": [
       "<matplotlib.collections.PathCollection at 0x24bea2a2880>"
      ]
     },
     "execution_count": 25,
     "metadata": {},
     "output_type": "execute_result"
    },
    {
     "data": {
      "image/png": "[encoded data removed]",
      "text/plain": [
       "<Figure size 432x288 with 1 Axes>"
      ]
     },
     "metadata": {
      "needs_background": "light"
     },
     "output_type": "display_data"
    }
   ],
   "source": [
    "# Melhorar a visualização\n",
    "import matplotlib.pyplot as plt\n",
    "\n",
    "plt.scatter(teste_x.horas_esperadas, teste_x.preco, c=teste_y, s=1)"
   ]
  },
  {
   "cell_type": "code",
   "execution_count": 26,
   "id": "f7095416-c6b3-4b3e-87b5-21d8a9bf114c",
   "metadata": {},
   "outputs": [
    {
     "data": {
      "text/plain": [
       "<matplotlib.collections.PathCollection at 0x24bea329cd0>"
      ]
     },
     "execution_count": 26,
     "metadata": {},
     "output_type": "execute_result"
    },
    {
     "data": {
      "image/png": "[encoded data removed]",
      "text/plain": [
       "<Figure size 432x288 with 1 Axes>"
      ]
     },
     "metadata": {
      "needs_background": "light"
     },
     "output_type": "display_data"
    }
   ],
   "source": [
    "# se o valor for 0 pintaremos de uma cor\n",
    "# se for 1, de outra\n",
    "# Adicionaremos uma cor diferente para que possamos visualizar a curva que separa as duas classificações do algoritmo. \n",
    "plt.contourf(xx, yy, Z, alpha=0.3)\n",
    "plt.scatter(teste_x.horas_esperadas, teste_x.preco, c=teste_y, s=1)"
   ]
  },
  {
   "cell_type": "markdown",
   "id": "d1935248-e79b-4405-bb44-d71cce8b8705",
   "metadata": {
    "jp-MarkdownHeadingCollapsed": true,
    "tags": []
   },
   "source": [
    "## 4️ Support Vector Machine e Não Linearidade"
   ]
  },
  {
   "cell_type": "markdown",
   "id": "2d588cf9-335c-4c95-b011-e9288ee3b86a",
   "metadata": {},
   "source": [
    "### Estimadores não lineares e support vector machine"
   ]
  },
  {
   "cell_type": "markdown",
   "id": "70fbbc7b-4039-4ee7-bbe0-9dc3a8e56f40",
   "metadata": {},
   "source": [
    "* Com o algoritmo do estimador LinearSVC, fomos capazes de encontrar uma borda de decisão na forma de linha\n",
    "* Esse estimador, que tentou modelar os nossos dados, é capaz de encontrar relacionamentos lineares entre as informações que passamos, mas nada além disso\n",
    "* Reparando nos nossos dados, percebemos que o relacionamento entre os projetos finalizados ou não parece ser melhor representado por uma curva, e não uma reta\n",
    "* **Precisamos de outro estimador**\n",
    "***\n",
    "No módulo sklearn.smv, teremos diversas variações de algoritmos baseados em uma única ideia: Suport Vector Machines, isto é, SVM. Estávamos utilizando anteriormente o LinearSVC, ou Suport Vector Classification, que é baseado em relacionamentos lineares"
   ]
  },
  {
   "cell_type": "code",
   "execution_count": 27,
   "id": "7e8c7685-5a08-4142-ba08-0abab85fc7ab",
   "metadata": {},
   "outputs": [
    {
     "name": "stdout",
     "output_type": "stream",
     "text": [
      "Treinaremos com 1617 elementos e testaremos com 540 elementos\n",
      "A acurácia foi 59.07%\n"
     ]
    }
   ],
   "source": [
    "from sklearn.svm import SVC\n",
    "\n",
    "SEED = 5\n",
    "np.random.seed(SEED)\n",
    "treino_x, teste_x, treino_y, teste_y = train_test_split(x, y, test_size = 0.25,\n",
    "                                                         stratify = y)\n",
    "print(\"Treinaremos com %d elementos e testaremos com %d elementos\" % (len(treino_x), len(teste_x)))\n",
    "\n",
    "modelo = SVC(gamma='auto')\n",
    "modelo.fit(treino_x, treino_y)\n",
    "previsoes = modelo.predict(teste_x)\n",
    "\n",
    "acuracia = accuracy_score(teste_y, previsoes) * 100\n",
    "print(\"A acurácia foi %.2f%%\" % acuracia)"
   ]
  },
  {
   "cell_type": "code",
   "execution_count": 28,
   "id": "54ab8d89-e496-47a6-ac7e-eeb6ef718dd4",
   "metadata": {},
   "outputs": [
    {
     "data": {
      "text/plain": [
       "<matplotlib.collections.PathCollection at 0x24beb4b70a0>"
      ]
     },
     "execution_count": 28,
     "metadata": {},
     "output_type": "execute_result"
    },
    {
     "data": {
      "image/png": "[encoded data removed]",
      "text/plain": [
       "<Figure size 432x288 with 1 Axes>"
      ]
     },
     "metadata": {
      "needs_background": "light"
     },
     "output_type": "display_data"
    }
   ],
   "source": [
    "x_min = teste_x.horas_esperadas.min()\n",
    "x_max = teste_x.horas_esperadas.max()\n",
    "y_min = teste_x.preco.min()\n",
    "y_max = teste_x.preco.max()\n",
    "\n",
    "pixels = 100\n",
    "eixo_x = np.arange(x_min, x_max, (x_max - x_min) / pixels)\n",
    "eixo_y = np.arange(y_min, y_max, (y_max - y_min) / pixels)\n",
    "\n",
    "xx, yy = np.meshgrid(eixo_x, eixo_y)\n",
    "pontos = np.c_[xx.ravel(), yy.ravel()]\n",
    "\n",
    "Z = modelo.predict(pontos)\n",
    "Z = Z.reshape(xx.shape)\n",
    "\n",
    "import matplotlib.pyplot as plt\n",
    "\n",
    "plt.contourf(xx, yy, Z, alpha=0.3)\n",
    "plt.scatter(teste_x.horas_esperadas, teste_x.preco, c=teste_y, s=1)"
   ]
  },
  {
   "cell_type": "markdown",
   "id": "9cd0b95e-52e8-41c1-b85b-d03e1f1ca843",
   "metadata": {},
   "source": [
    "* Analisando a plotagem, percebemos que de fato foram realizados relacionamentos não lineares. Há pequenos agrupamentos de cor diferente que representam as previsões do algoritmo para projetos que terão valor 1, e o restante será 0\n",
    "* Isso o ocorre devido a discrepância entre os eixos: em X, teremos valores de 0 a 100, e em Y de 0 a 30000. Esses algoritmos são muito suscetíveis a escala, e darão menos valor para variações menores, como é o caso de X."
   ]
  },
  {
   "cell_type": "code",
   "execution_count": 29,
   "id": "5418f9bb-ada7-4e45-980a-6961c162dd96",
   "metadata": {},
   "outputs": [
    {
     "name": "stdout",
     "output_type": "stream",
     "text": [
      "Treinaremos com 1617 elementos e testaremos com 540 elementos\n",
      "A acurácia foi 66.85%\n"
     ]
    }
   ],
   "source": [
    "# Escalas distintas em features causam um desbalanço no algoritmo\n",
    "# Uma alternativa para solucionarmos esse problema é reescalarmos todo o nosso projeto para uma faixa similar. \n",
    "# Faremos isso utilizando o escalador padrão do Sklearn, o stadardscaler, que é uma fase de pré-processamento e padronização de valores\n",
    "from sklearn.preprocessing import StandardScaler\n",
    "from sklearn.model_selection import train_test_split\n",
    "from sklearn.svm import SVC\n",
    "from sklearn.metrics import accuracy_score\n",
    "\n",
    "SEED = 5\n",
    "np.random.seed(SEED)\n",
    "raw_treino_x, raw_teste_x, treino_y, teste_y = train_test_split(x, y, test_size = 0.25,\n",
    "                                                         stratify = y)\n",
    "print(\"Treinaremos com %d elementos e testaremos com %d elementos\" % (len(treino_x), len(teste_x)))\n",
    "\n",
    "scaler = StandardScaler()\n",
    "scaler.fit(raw_treino_x)\n",
    "treino_x = scaler.transform(raw_treino_x)\n",
    "teste_x = scaler.transform(raw_teste_x)\n",
    "\n",
    "modelo = SVC()\n",
    "modelo.fit(treino_x, treino_y)\n",
    "previsoes = modelo.predict(teste_x)\n",
    "\n",
    "acuracia = accuracy_score(teste_y, previsoes) * 100\n",
    "print(\"A acurácia foi %.2f%%\" % acuracia)"
   ]
  },
  {
   "cell_type": "code",
   "execution_count": 30,
   "id": "e9c33d42-51b2-44e6-a529-4aa437f02a04",
   "metadata": {},
   "outputs": [
    {
     "data": {
      "text/plain": [
       "<matplotlib.collections.PathCollection at 0x24beb52eaf0>"
      ]
     },
     "execution_count": 30,
     "metadata": {},
     "output_type": "execute_result"
    },
    {
     "data": {
      "image/png": "[encoded data removed]",
      "text/plain": [
       "<Figure size 432x288 with 1 Axes>"
      ]
     },
     "metadata": {
      "needs_background": "light"
     },
     "output_type": "display_data"
    }
   ],
   "source": [
    "data_x = teste_x[:,0]\n",
    "data_y = teste_x[:,1]\n",
    "\n",
    "x_min = data_x.min()\n",
    "x_max = data_x.max()\n",
    "y_min = data_y.min()\n",
    "y_max = data_y.max()\n",
    "\n",
    "pixels = 100\n",
    "eixo_x = np.arange(x_min, x_max, (x_max - x_min) / pixels)\n",
    "eixo_y = np.arange(y_min, y_max, (y_max - y_min) / pixels)\n",
    "\n",
    "xx, yy = np.meshgrid(eixo_x, eixo_y)\n",
    "pontos = np.c_[xx.ravel(), yy.ravel()]\n",
    "\n",
    "Z = modelo.predict(pontos)\n",
    "Z = Z.reshape(xx.shape)\n",
    "\n",
    "import matplotlib.pyplot as plt\n",
    "\n",
    "plt.contourf(xx, yy, Z, alpha=0.3)\n",
    "plt.scatter(data_x, data_y, c=teste_y, s=1)"
   ]
  },
  {
   "cell_type": "markdown",
   "id": "5d5d52c2-813a-48ad-b299-17dcd30390e7",
   "metadata": {},
   "source": [
    "Por mais que LinearSVC tenha tido uma taxa razoável de 64.44%, a linha de decisão na plotagem foi horrível. \n",
    "Na prática, utilizar o SVC parece ser uma decisão melhor: temos uma curva de decisão bem marcada e o estimador possui uma taxa de acerto um pouco maior, de 66.85%."
   ]
  },
  {
   "cell_type": "markdown",
   "id": "60ec4118-abd4-49da-a45a-c19f1df4a23e",
   "metadata": {
    "jp-MarkdownHeadingCollapsed": true,
    "tags": []
   },
   "source": [
    "## 5️ Dummy Classifiers e Árvores de Decisão"
   ]
  },
  {
   "cell_type": "markdown",
   "id": "6c09ccd7-c96e-4dab-b97a-a1c1c9522290",
   "metadata": {},
   "source": [
    "### Trabalhando o Conjunto de Dados"
   ]
  },
  {
   "cell_type": "code",
   "execution_count": 31,
   "id": "ad53573b-a997-492b-b751-5c92fa7a4842",
   "metadata": {},
   "outputs": [
    {
     "data": {
      "text/html": [
       "<div>\n",
       "<style scoped>\n",
       "    .dataframe tbody tr th:only-of-type {\n",
       "        vertical-align: middle;\n",
       "    }\n",
       "\n",
       "    .dataframe tbody tr th {\n",
       "        vertical-align: top;\n",
       "    }\n",
       "\n",
       "    .dataframe thead th {\n",
       "        text-align: right;\n",
       "    }\n",
       "</style>\n",
       "<table border=\"1\" class=\"dataframe\">\n",
       "  <thead>\n",
       "    <tr style=\"text-align: right;\">\n",
       "      <th></th>\n",
       "      <th>Unnamed: 0</th>\n",
       "      <th>mileage_per_year</th>\n",
       "      <th>model_year</th>\n",
       "      <th>price</th>\n",
       "      <th>sold</th>\n",
       "    </tr>\n",
       "  </thead>\n",
       "  <tbody>\n",
       "    <tr>\n",
       "      <th>0</th>\n",
       "      <td>0</td>\n",
       "      <td>21801</td>\n",
       "      <td>2000</td>\n",
       "      <td>30941.02</td>\n",
       "      <td>yes</td>\n",
       "    </tr>\n",
       "    <tr>\n",
       "      <th>1</th>\n",
       "      <td>1</td>\n",
       "      <td>7843</td>\n",
       "      <td>1998</td>\n",
       "      <td>40557.96</td>\n",
       "      <td>yes</td>\n",
       "    </tr>\n",
       "    <tr>\n",
       "      <th>2</th>\n",
       "      <td>2</td>\n",
       "      <td>7109</td>\n",
       "      <td>2006</td>\n",
       "      <td>89627.50</td>\n",
       "      <td>no</td>\n",
       "    </tr>\n",
       "    <tr>\n",
       "      <th>3</th>\n",
       "      <td>3</td>\n",
       "      <td>26823</td>\n",
       "      <td>2015</td>\n",
       "      <td>95276.14</td>\n",
       "      <td>no</td>\n",
       "    </tr>\n",
       "    <tr>\n",
       "      <th>4</th>\n",
       "      <td>4</td>\n",
       "      <td>7935</td>\n",
       "      <td>2014</td>\n",
       "      <td>117384.68</td>\n",
       "      <td>yes</td>\n",
       "    </tr>\n",
       "  </tbody>\n",
       "</table>\n",
       "</div>"
      ],
      "text/plain": [
       "   Unnamed: 0  mileage_per_year  model_year      price sold\n",
       "0           0             21801        2000   30941.02  yes\n",
       "1           1              7843        1998   40557.96  yes\n",
       "2           2              7109        2006   89627.50   no\n",
       "3           3             26823        2015   95276.14   no\n",
       "4           4              7935        2014  117384.68  yes"
      ]
     },
     "execution_count": 31,
     "metadata": {},
     "output_type": "execute_result"
    }
   ],
   "source": [
    "import pandas as pd\n",
    "\n",
    "uri = \"https://gist.githubusercontent.com/guilhermesilveira/4d1d4a16ccbf6ea4e0a64a38a24ec884/raw/afd05cb0c796d18f3f5a6537053ded308ba94bf7/car-prices.csv\"\n",
    "dados = pd.read_csv(uri)\n",
    "dados.head()\n",
    "\n",
    "# cada linha representa um carro à venda em uma loja online\n",
    "# Os carros são de diversos donos diferentes, e alguns desses carros foram vendidos e outros não\n",
    "# De acordo com estas variáveis, tentaremos classificar se um carro será vendido ou não"
   ]
  },
  {
   "cell_type": "code",
   "execution_count": 32,
   "id": "df977e6a-6f77-41c1-aae6-da23e02620a7",
   "metadata": {},
   "outputs": [
    {
     "data": {
      "text/html": [
       "<div>\n",
       "<style scoped>\n",
       "    .dataframe tbody tr th:only-of-type {\n",
       "        vertical-align: middle;\n",
       "    }\n",
       "\n",
       "    .dataframe tbody tr th {\n",
       "        vertical-align: top;\n",
       "    }\n",
       "\n",
       "    .dataframe thead th {\n",
       "        text-align: right;\n",
       "    }\n",
       "</style>\n",
       "<table border=\"1\" class=\"dataframe\">\n",
       "  <thead>\n",
       "    <tr style=\"text-align: right;\">\n",
       "      <th></th>\n",
       "      <th>Unnamed: 0</th>\n",
       "      <th>milhas_por_ano</th>\n",
       "      <th>ano_do_modelo</th>\n",
       "      <th>preco</th>\n",
       "      <th>vendido</th>\n",
       "    </tr>\n",
       "  </thead>\n",
       "  <tbody>\n",
       "    <tr>\n",
       "      <th>0</th>\n",
       "      <td>0</td>\n",
       "      <td>21801</td>\n",
       "      <td>2000</td>\n",
       "      <td>30941.02</td>\n",
       "      <td>yes</td>\n",
       "    </tr>\n",
       "    <tr>\n",
       "      <th>1</th>\n",
       "      <td>1</td>\n",
       "      <td>7843</td>\n",
       "      <td>1998</td>\n",
       "      <td>40557.96</td>\n",
       "      <td>yes</td>\n",
       "    </tr>\n",
       "    <tr>\n",
       "      <th>2</th>\n",
       "      <td>2</td>\n",
       "      <td>7109</td>\n",
       "      <td>2006</td>\n",
       "      <td>89627.50</td>\n",
       "      <td>no</td>\n",
       "    </tr>\n",
       "    <tr>\n",
       "      <th>3</th>\n",
       "      <td>3</td>\n",
       "      <td>26823</td>\n",
       "      <td>2015</td>\n",
       "      <td>95276.14</td>\n",
       "      <td>no</td>\n",
       "    </tr>\n",
       "    <tr>\n",
       "      <th>4</th>\n",
       "      <td>4</td>\n",
       "      <td>7935</td>\n",
       "      <td>2014</td>\n",
       "      <td>117384.68</td>\n",
       "      <td>yes</td>\n",
       "    </tr>\n",
       "  </tbody>\n",
       "</table>\n",
       "</div>"
      ],
      "text/plain": [
       "   Unnamed: 0  milhas_por_ano  ano_do_modelo      preco vendido\n",
       "0           0           21801           2000   30941.02     yes\n",
       "1           1            7843           1998   40557.96     yes\n",
       "2           2            7109           2006   89627.50      no\n",
       "3           3           26823           2015   95276.14      no\n",
       "4           4            7935           2014  117384.68     yes"
      ]
     },
     "execution_count": 32,
     "metadata": {},
     "output_type": "execute_result"
    }
   ],
   "source": [
    "# Renomear colunas \n",
    "dict_renomear = { \n",
    "    'mileage_per_year' : 'milhas_por_ano',\n",
    "    'model_year' : 'ano_do_modelo',\n",
    "    'price' : 'preco',\n",
    "    'sold' :'vendido'\n",
    "}\n",
    "dados = dados.rename(columns=dict_renomear)\n",
    "dados.head()"
   ]
  },
  {
   "cell_type": "code",
   "execution_count": 33,
   "id": "856df567-410b-456c-9ba6-d775b8fe42ac",
   "metadata": {},
   "outputs": [
    {
     "data": {
      "text/html": [
       "<div>\n",
       "<style scoped>\n",
       "    .dataframe tbody tr th:only-of-type {\n",
       "        vertical-align: middle;\n",
       "    }\n",
       "\n",
       "    .dataframe tbody tr th {\n",
       "        vertical-align: top;\n",
       "    }\n",
       "\n",
       "    .dataframe thead th {\n",
       "        text-align: right;\n",
       "    }\n",
       "</style>\n",
       "<table border=\"1\" class=\"dataframe\">\n",
       "  <thead>\n",
       "    <tr style=\"text-align: right;\">\n",
       "      <th></th>\n",
       "      <th>Unnamed: 0</th>\n",
       "      <th>milhas_por_ano</th>\n",
       "      <th>ano_do_modelo</th>\n",
       "      <th>preco</th>\n",
       "      <th>vendido</th>\n",
       "    </tr>\n",
       "  </thead>\n",
       "  <tbody>\n",
       "    <tr>\n",
       "      <th>0</th>\n",
       "      <td>0</td>\n",
       "      <td>21801</td>\n",
       "      <td>2000</td>\n",
       "      <td>30941.02</td>\n",
       "      <td>1</td>\n",
       "    </tr>\n",
       "    <tr>\n",
       "      <th>1</th>\n",
       "      <td>1</td>\n",
       "      <td>7843</td>\n",
       "      <td>1998</td>\n",
       "      <td>40557.96</td>\n",
       "      <td>1</td>\n",
       "    </tr>\n",
       "    <tr>\n",
       "      <th>2</th>\n",
       "      <td>2</td>\n",
       "      <td>7109</td>\n",
       "      <td>2006</td>\n",
       "      <td>89627.50</td>\n",
       "      <td>0</td>\n",
       "    </tr>\n",
       "    <tr>\n",
       "      <th>3</th>\n",
       "      <td>3</td>\n",
       "      <td>26823</td>\n",
       "      <td>2015</td>\n",
       "      <td>95276.14</td>\n",
       "      <td>0</td>\n",
       "    </tr>\n",
       "    <tr>\n",
       "      <th>4</th>\n",
       "      <td>4</td>\n",
       "      <td>7935</td>\n",
       "      <td>2014</td>\n",
       "      <td>117384.68</td>\n",
       "      <td>1</td>\n",
       "    </tr>\n",
       "  </tbody>\n",
       "</table>\n",
       "</div>"
      ],
      "text/plain": [
       "   Unnamed: 0  milhas_por_ano  ano_do_modelo      preco  vendido\n",
       "0           0           21801           2000   30941.02        1\n",
       "1           1            7843           1998   40557.96        1\n",
       "2           2            7109           2006   89627.50        0\n",
       "3           3           26823           2015   95276.14        0\n",
       "4           4            7935           2014  117384.68        1"
      ]
     },
     "execution_count": 33,
     "metadata": {},
     "output_type": "execute_result"
    }
   ],
   "source": [
    "# Trocar valores de linhas\n",
    "dict_trocar = {\n",
    "    'no': 0,\n",
    "    'yes': 1\n",
    "}\n",
    "dados.vendido = dados.vendido.map(dict_trocar)\n",
    "dados.head()"
   ]
  },
  {
   "cell_type": "code",
   "execution_count": 34,
   "id": "58721d4b-5b55-4f9b-9741-df020b7b3e96",
   "metadata": {},
   "outputs": [
    {
     "data": {
      "text/html": [
       "<div>\n",
       "<style scoped>\n",
       "    .dataframe tbody tr th:only-of-type {\n",
       "        vertical-align: middle;\n",
       "    }\n",
       "\n",
       "    .dataframe tbody tr th {\n",
       "        vertical-align: top;\n",
       "    }\n",
       "\n",
       "    .dataframe thead th {\n",
       "        text-align: right;\n",
       "    }\n",
       "</style>\n",
       "<table border=\"1\" class=\"dataframe\">\n",
       "  <thead>\n",
       "    <tr style=\"text-align: right;\">\n",
       "      <th></th>\n",
       "      <th>Unnamed: 0</th>\n",
       "      <th>milhas_por_ano</th>\n",
       "      <th>ano_do_modelo</th>\n",
       "      <th>preco</th>\n",
       "      <th>vendido</th>\n",
       "      <th>idade_do_modelo</th>\n",
       "    </tr>\n",
       "  </thead>\n",
       "  <tbody>\n",
       "    <tr>\n",
       "      <th>0</th>\n",
       "      <td>0</td>\n",
       "      <td>21801</td>\n",
       "      <td>2000</td>\n",
       "      <td>30941.02</td>\n",
       "      <td>1</td>\n",
       "      <td>22</td>\n",
       "    </tr>\n",
       "    <tr>\n",
       "      <th>1</th>\n",
       "      <td>1</td>\n",
       "      <td>7843</td>\n",
       "      <td>1998</td>\n",
       "      <td>40557.96</td>\n",
       "      <td>1</td>\n",
       "      <td>24</td>\n",
       "    </tr>\n",
       "    <tr>\n",
       "      <th>2</th>\n",
       "      <td>2</td>\n",
       "      <td>7109</td>\n",
       "      <td>2006</td>\n",
       "      <td>89627.50</td>\n",
       "      <td>0</td>\n",
       "      <td>16</td>\n",
       "    </tr>\n",
       "    <tr>\n",
       "      <th>3</th>\n",
       "      <td>3</td>\n",
       "      <td>26823</td>\n",
       "      <td>2015</td>\n",
       "      <td>95276.14</td>\n",
       "      <td>0</td>\n",
       "      <td>7</td>\n",
       "    </tr>\n",
       "    <tr>\n",
       "      <th>4</th>\n",
       "      <td>4</td>\n",
       "      <td>7935</td>\n",
       "      <td>2014</td>\n",
       "      <td>117384.68</td>\n",
       "      <td>1</td>\n",
       "      <td>8</td>\n",
       "    </tr>\n",
       "  </tbody>\n",
       "</table>\n",
       "</div>"
      ],
      "text/plain": [
       "   Unnamed: 0  milhas_por_ano  ano_do_modelo      preco  vendido  \\\n",
       "0           0           21801           2000   30941.02        1   \n",
       "1           1            7843           1998   40557.96        1   \n",
       "2           2            7109           2006   89627.50        0   \n",
       "3           3           26823           2015   95276.14        0   \n",
       "4           4            7935           2014  117384.68        1   \n",
       "\n",
       "   idade_do_modelo  \n",
       "0               22  \n",
       "1               24  \n",
       "2               16  \n",
       "3                7  \n",
       "4                8  "
      ]
     },
     "execution_count": 34,
     "metadata": {},
     "output_type": "execute_result"
    }
   ],
   "source": [
    "#idade dos veículos em relação ao ano atual\n",
    "from datetime import datetime\n",
    "\n",
    "ano_atual = datetime.today().year\n",
    "dados['idade_do_modelo'] = ano_atual - dados.ano_do_modelo\n",
    "dados.head()"
   ]
  },
  {
   "cell_type": "code",
   "execution_count": 35,
   "id": "e8d06326-b994-4ebd-8094-0d6ab4310662",
   "metadata": {},
   "outputs": [
    {
     "data": {
      "text/html": [
       "<div>\n",
       "<style scoped>\n",
       "    .dataframe tbody tr th:only-of-type {\n",
       "        vertical-align: middle;\n",
       "    }\n",
       "\n",
       "    .dataframe tbody tr th {\n",
       "        vertical-align: top;\n",
       "    }\n",
       "\n",
       "    .dataframe thead th {\n",
       "        text-align: right;\n",
       "    }\n",
       "</style>\n",
       "<table border=\"1\" class=\"dataframe\">\n",
       "  <thead>\n",
       "    <tr style=\"text-align: right;\">\n",
       "      <th></th>\n",
       "      <th>Unnamed: 0</th>\n",
       "      <th>milhas_por_ano</th>\n",
       "      <th>ano_do_modelo</th>\n",
       "      <th>preco</th>\n",
       "      <th>vendido</th>\n",
       "      <th>idade_do_modelo</th>\n",
       "      <th>km_por_ano</th>\n",
       "    </tr>\n",
       "  </thead>\n",
       "  <tbody>\n",
       "    <tr>\n",
       "      <th>0</th>\n",
       "      <td>0</td>\n",
       "      <td>21801</td>\n",
       "      <td>2000</td>\n",
       "      <td>30941.02</td>\n",
       "      <td>1</td>\n",
       "      <td>22</td>\n",
       "      <td>35085.22134</td>\n",
       "    </tr>\n",
       "    <tr>\n",
       "      <th>1</th>\n",
       "      <td>1</td>\n",
       "      <td>7843</td>\n",
       "      <td>1998</td>\n",
       "      <td>40557.96</td>\n",
       "      <td>1</td>\n",
       "      <td>24</td>\n",
       "      <td>12622.05362</td>\n",
       "    </tr>\n",
       "    <tr>\n",
       "      <th>2</th>\n",
       "      <td>2</td>\n",
       "      <td>7109</td>\n",
       "      <td>2006</td>\n",
       "      <td>89627.50</td>\n",
       "      <td>0</td>\n",
       "      <td>16</td>\n",
       "      <td>11440.79806</td>\n",
       "    </tr>\n",
       "    <tr>\n",
       "      <th>3</th>\n",
       "      <td>3</td>\n",
       "      <td>26823</td>\n",
       "      <td>2015</td>\n",
       "      <td>95276.14</td>\n",
       "      <td>0</td>\n",
       "      <td>7</td>\n",
       "      <td>43167.32682</td>\n",
       "    </tr>\n",
       "    <tr>\n",
       "      <th>4</th>\n",
       "      <td>4</td>\n",
       "      <td>7935</td>\n",
       "      <td>2014</td>\n",
       "      <td>117384.68</td>\n",
       "      <td>1</td>\n",
       "      <td>8</td>\n",
       "      <td>12770.11290</td>\n",
       "    </tr>\n",
       "  </tbody>\n",
       "</table>\n",
       "</div>"
      ],
      "text/plain": [
       "   Unnamed: 0  milhas_por_ano  ano_do_modelo      preco  vendido  \\\n",
       "0           0           21801           2000   30941.02        1   \n",
       "1           1            7843           1998   40557.96        1   \n",
       "2           2            7109           2006   89627.50        0   \n",
       "3           3           26823           2015   95276.14        0   \n",
       "4           4            7935           2014  117384.68        1   \n",
       "\n",
       "   idade_do_modelo   km_por_ano  \n",
       "0               22  35085.22134  \n",
       "1               24  12622.05362  \n",
       "2               16  11440.79806  \n",
       "3                7  43167.32682  \n",
       "4                8  12770.11290  "
      ]
     },
     "execution_count": 35,
     "metadata": {},
     "output_type": "execute_result"
    }
   ],
   "source": [
    "# Coluna com valores em Km \n",
    "dados ['km_por_ano'] = dados.milhas_por_ano * 1.60934\n",
    "dados.head()"
   ]
  },
  {
   "cell_type": "code",
   "execution_count": 36,
   "id": "65287392-1e77-44ac-84b3-0b3505695939",
   "metadata": {},
   "outputs": [
    {
     "data": {
      "text/html": [
       "<div>\n",
       "<style scoped>\n",
       "    .dataframe tbody tr th:only-of-type {\n",
       "        vertical-align: middle;\n",
       "    }\n",
       "\n",
       "    .dataframe tbody tr th {\n",
       "        vertical-align: top;\n",
       "    }\n",
       "\n",
       "    .dataframe thead th {\n",
       "        text-align: right;\n",
       "    }\n",
       "</style>\n",
       "<table border=\"1\" class=\"dataframe\">\n",
       "  <thead>\n",
       "    <tr style=\"text-align: right;\">\n",
       "      <th></th>\n",
       "      <th>preco</th>\n",
       "      <th>vendido</th>\n",
       "      <th>idade_do_modelo</th>\n",
       "      <th>km_por_ano</th>\n",
       "    </tr>\n",
       "  </thead>\n",
       "  <tbody>\n",
       "    <tr>\n",
       "      <th>0</th>\n",
       "      <td>30941.02</td>\n",
       "      <td>1</td>\n",
       "      <td>22</td>\n",
       "      <td>35085.22134</td>\n",
       "    </tr>\n",
       "    <tr>\n",
       "      <th>1</th>\n",
       "      <td>40557.96</td>\n",
       "      <td>1</td>\n",
       "      <td>24</td>\n",
       "      <td>12622.05362</td>\n",
       "    </tr>\n",
       "    <tr>\n",
       "      <th>2</th>\n",
       "      <td>89627.50</td>\n",
       "      <td>0</td>\n",
       "      <td>16</td>\n",
       "      <td>11440.79806</td>\n",
       "    </tr>\n",
       "    <tr>\n",
       "      <th>3</th>\n",
       "      <td>95276.14</td>\n",
       "      <td>0</td>\n",
       "      <td>7</td>\n",
       "      <td>43167.32682</td>\n",
       "    </tr>\n",
       "    <tr>\n",
       "      <th>4</th>\n",
       "      <td>117384.68</td>\n",
       "      <td>1</td>\n",
       "      <td>8</td>\n",
       "      <td>12770.11290</td>\n",
       "    </tr>\n",
       "  </tbody>\n",
       "</table>\n",
       "</div>"
      ],
      "text/plain": [
       "       preco  vendido  idade_do_modelo   km_por_ano\n",
       "0   30941.02        1               22  35085.22134\n",
       "1   40557.96        1               24  12622.05362\n",
       "2   89627.50        0               16  11440.79806\n",
       "3   95276.14        0                7  43167.32682\n",
       "4  117384.68        1                8  12770.11290"
      ]
     },
     "execution_count": 36,
     "metadata": {},
     "output_type": "execute_result"
    }
   ],
   "source": [
    "dados = dados.drop(columns = [\"Unnamed: 0\", \"milhas_por_ano\", \"ano_do_modelo\"], axis=1)\n",
    "dados.head()"
   ]
  },
  {
   "cell_type": "code",
   "execution_count": 37,
   "id": "0af1f15f-a258-47c0-a0de-617dd8f23ea8",
   "metadata": {},
   "outputs": [],
   "source": [
    "# Separando X (as colunas que representam nossas features) e Y (se o carro foi vendido ou não):\n",
    "x = dados[[\"preco\", \"idade_do_modelo\", \"km_por_ano\"]]\n",
    "y = dados[\"vendido\"]"
   ]
  },
  {
   "cell_type": "code",
   "execution_count": 38,
   "id": "79245e5b-5b2d-4f4e-9c9f-ff3e20e8eae4",
   "metadata": {},
   "outputs": [
    {
     "name": "stdout",
     "output_type": "stream",
     "text": [
      "Treinaremos com 7500 elementos e testaremos com 2500 elementos\n",
      "A acurácia foi 46.88%\n"
     ]
    }
   ],
   "source": [
    "#### Testar classificação do Linear SVC\n",
    "\n",
    "import numpy as np\n",
    "from sklearn.model_selection import train_test_split\n",
    "from sklearn.svm import LinearSVC\n",
    "from sklearn.metrics import accuracy_score\n",
    "\n",
    "x = dados[[\"preco\", \"idade_do_modelo\", \"km_por_ano\"]]\n",
    "y = dados[\"vendido\"]\n",
    "\n",
    "SEED = 5\n",
    "np.random.seed(SEED)\n",
    "treino_x, teste_x, treino_y, teste_y = train_test_split(x, y, test_size = 0.25,\n",
    "                                                         stratify = y)\n",
    "print(\"Treinaremos com %d elementos e testaremos com %d elementos\" % (len(treino_x), len(teste_x)))\n",
    "\n",
    "modelo = LinearSVC()\n",
    "modelo.fit(treino_x, treino_y)\n",
    "previsoes = modelo.predict(teste_x)\n",
    "\n",
    "acuracia = accuracy_score(teste_y, previsoes) * 100\n",
    "print(\"A acurácia foi %.2f%%\" % acuracia)"
   ]
  },
  {
   "cell_type": "markdown",
   "id": "5d6f644c-692d-41a2-bcb6-d60d03e97a6c",
   "metadata": {},
   "source": [
    "Uma acurácia de 57.88%, mas ainda não temos base comparativa para sabermos o quão bom ou ruim é esse resultado."
   ]
  },
  {
   "cell_type": "markdown",
   "id": "2c01c66c-1fc3-4dbc-99fe-cd71591c20c6",
   "metadata": {},
   "source": [
    "### Dummy classifiers e svc"
   ]
  },
  {
   "cell_type": "markdown",
   "id": "9351d9de-8595-45f5-b314-dc8db45dd933",
   "metadata": {},
   "source": [
    "SKLearn possui um estimador conhecido como **DummyClassifier**, que é basicamente o que o nome diz: um classificador \"bobo\""
   ]
  },
  {
   "cell_type": "code",
   "execution_count": 39,
   "id": "31a84f66-562b-4f8b-b202-ed441fb0cc44",
   "metadata": {},
   "outputs": [
    {
     "name": "stdout",
     "output_type": "stream",
     "text": [
      "A acurácia do dummy foi 58.00%\n"
     ]
    }
   ],
   "source": [
    "from sklearn.dummy import DummyClassifier\n",
    "\n",
    "dummy = DummyClassifier()\n",
    "dummy.fit(treino_x, treino_y)\n",
    "previsoes = dummy.predict(teste_x)\n",
    "\n",
    "acuracia = accuracy_score(teste_y, previsoes) * 100\n",
    "print(\"A acurácia do dummy foi %.2f%%\" % acuracia)"
   ]
  },
  {
   "cell_type": "code",
   "execution_count": 40,
   "id": "c1681093-231e-4c7e-9eeb-95a4e27c1c12",
   "metadata": {},
   "outputs": [
    {
     "name": "stdout",
     "output_type": "stream",
     "text": [
      "A acurácia do dummy foi 52.44%\n"
     ]
    }
   ],
   "source": [
    "# Estratégia do DummyClassifier, o argumento stratified\n",
    "# Estimador manterá a proporcionalidade em sua classificação\n",
    "\n",
    "dummy_stratified = DummyClassifier(strategy='stratified')\n",
    "dummy_stratified.fit(treino_x, treino_y)\n",
    "previsoes = dummy_stratified.predict(teste_x)\n",
    "\n",
    "acuracia = accuracy_score(teste_y, previsoes) * 100\n",
    "print(\"A acurácia do dummy foi %.2f%%\" % acuracia)"
   ]
  },
  {
   "cell_type": "code",
   "execution_count": 41,
   "id": "8228c2fb-79a6-4dd4-9047-4083e375db92",
   "metadata": {},
   "outputs": [
    {
     "name": "stdout",
     "output_type": "stream",
     "text": [
      "A acurácia do dummy mostfrequent foi 58.00%\n"
     ]
    }
   ],
   "source": [
    "# Estratégia do DummyClassifier, o argumento most_frequent, ou \"mais frequente\"\n",
    "dummy_mostfrequent = DummyClassifier(strategy=\"most_frequent\")\n",
    "dummy_mostfrequent.fit(treino_x, treino_y)\n",
    "previsoes = dummy_mostfrequent.predict(teste_x)\n",
    "\n",
    "acuracia = accuracy_score(teste_y, previsoes) * 100\n",
    "print(\"A acurácia do dummy mostfrequent foi %.2f%%\" % acuracia)"
   ]
  },
  {
   "cell_type": "code",
   "execution_count": 42,
   "id": "50deb1a4-ae14-4e34-b9b6-3e4a7447f0f5",
   "metadata": {},
   "outputs": [
    {
     "name": "stdout",
     "output_type": "stream",
     "text": [
      "A acurácia do dummy stratified foi 58.00%\n"
     ]
    }
   ],
   "source": [
    "dummy_stratified = DummyClassifier()\n",
    "dummy_stratified.fit(treino_x, treino_y)\n",
    "acuracia = dummy_stratified.score(teste_x, teste_y) * 100\n",
    "\n",
    "print(\"A acurácia do dummy stratified foi %.2f%%\" % acuracia)"
   ]
  },
  {
   "cell_type": "markdown",
   "id": "78149db3-4924-453a-9aec-0df98da469b7",
   "metadata": {},
   "source": [
    "from sklearn.preprocessing import StandardScaler\n",
    "from sklearn.model_selection import train_test_split\n",
    "from sklearn.svm import SVC\n",
    "from sklearn.metrics import accuracy_score\n",
    "\n",
    "SEED = 5\n",
    "np.random.seed(SEED)\n",
    "raw_treino_x, raw_teste_x, treino_y, teste_y = train_test_split(x, y, test_size = 0.25,\n",
    "                                                         stratify = y)\n",
    "print(\"Treinaremos com %d elementos e testaremos com %d elementos\" % (len(treino_x), len(teste_x)))\n",
    "\n",
    "scaler = StandardScaler()\n",
    "scaler.fit(raw_treino_x)\n",
    "treino_x = scaler.transform(raw_treino_x)\n",
    "teste_x = scaler.transform(raw_teste_x)\n",
    "\n",
    "modelo = SVC()\n",
    "modelo.fit(treino_x, treino_y)\n",
    "previsoes = modelo.predict(teste_x)\n",
    "\n",
    "acuracia = accuracy_score(teste_y, previsoes) * 100\n",
    "print(\"A acurácia foi %.2f%%\" % acuracia)"
   ]
  },
  {
   "cell_type": "markdown",
   "id": "5d566ce8-baf1-45f6-9cb9-75c167aa1d94",
   "metadata": {},
   "source": [
    "* Com esse resultado, tivemos em ganho muito grande de acurácia em relação à baseline - aproximadamente 25% de ganho absoluto e 48% de ganho relativo"
   ]
  },
  {
   "cell_type": "markdown",
   "id": "b66e1b27-4f9f-4407-8f52-10360bf621d7",
   "metadata": {},
   "source": [
    "Algoritmos de classificação como o **Support Vector Machine** são difíceis de estudar e interpretar, e, por esse motivo, são apelidados de **caixa preta**"
   ]
  },
  {
   "cell_type": "markdown",
   "id": "e0604853-bcba-4375-bd45-be2899eef0e3",
   "metadata": {},
   "source": [
    "### Árvore de decisão e Visualizando as decisões de um estimador"
   ]
  },
  {
   "cell_type": "markdown",
   "id": "d1d11aa8-cf85-448c-b05d-b656eda15967",
   "metadata": {},
   "source": [
    "* Existem algoritmos que exibem uma sequência de decisões com base nos dados fornecidos, como por exemplo um carro ter menos quilometragens rodadas e ser mais novo, e como essas decisões influenciam na classificação, em uma espécie de \"árvore de decisões\". \n",
    "* Tais classificadores são chamados de decision tree classifiers. "
   ]
  },
  {
   "cell_type": "code",
   "execution_count": 59,
   "id": "62b858a4-e8b2-45fd-9121-5375ed9a55a9",
   "metadata": {},
   "outputs": [
    {
     "name": "stdout",
     "output_type": "stream",
     "text": [
      "Treinaremos com 7500 elementos e testaremos com 2500 elementos\n",
      "A acurácia foi 76.84%\n"
     ]
    }
   ],
   "source": [
    "from sklearn.preprocessing import StandardScaler\n",
    "from sklearn.model_selection import train_test_split\n",
    "from sklearn.tree import DecisionTreeClassifier\n",
    "from sklearn.metrics import accuracy_score\n",
    "\n",
    "# Definimos o SEED para tornar o experimento replicável\n",
    "SEED = 5\n",
    "np.random.seed(SEED)\n",
    "\n",
    "# Separamos os dados de teste e de treino\n",
    "# Reescalamos esses dados \n",
    "raw_treino_x, raw_teste_x, treino_y, teste_y = train_test_split(x, y, test_size = 0.25,\n",
    "                                                         stratify = y)\n",
    "print(\"Treinaremos com %d elementos e testaremos com %d elementos\" % (len(treino_x), len(teste_x)))\n",
    "\n",
    "# Criação do modelo DecisionTreeClassifier()\n",
    "modelo = DecisionTreeClassifier(max_depth=2)\n",
    "modelo.fit(raw_treino_x, treino_y)\n",
    "previsoes = modelo.predict(raw_teste_x)\n",
    "\n",
    "acuracia = accuracy_score(teste_y, previsoes) * 100\n",
    "print(\"A acurácia foi %.2f%%\" % acuracia)"
   ]
  },
  {
   "cell_type": "code",
   "execution_count": 60,
   "id": "abc7c343-fcf2-4920-bbdc-3f1e2336202a",
   "metadata": {},
   "outputs": [
    {
     "data": {
      "image/svg+xml": [
       "<?xml version=\"1.0\" encoding=\"UTF-8\" standalone=\"no\"?>\r\n",
       "<!DOCTYPE svg PUBLIC \"-//W3C//DTD SVG 1.1//EN\"\r\n",
       " \"http://www.w3.org/Graphics/SVG/1.1/DTD/svg11.dtd\">\r\n",
       "<!-- Generated by graphviz version 2.38.0 (20140413.2041)\r\n",
       " -->\r\n",
       "<!-- Title: Tree Pages: 1 -->\r\n",
       "<svg width=\"606pt\" height=\"269pt\"\r\n",
       " viewBox=\"0.00 0.00 606.00 269.00\" xmlns=\"http://www.w3.org/2000/svg\" xmlns:xlink=\"http://www.w3.org/1999/xlink\">\r\n",
       "<g id=\"graph0\" class=\"graph\" transform=\"scale(1 1) rotate(0) translate(4 265)\">\r\n",
       "<title>Tree</title>\r\n",
       "<polygon fill=\"white\" stroke=\"none\" points=\"-4,4 -4,-265 602,-265 602,4 -4,4\"/>\r\n",
       "<!-- 0 -->\r\n",
       "<g id=\"node1\" class=\"node\"><title>0</title>\r\n",
       "<polygon fill=\"none\" stroke=\"black\" points=\"362,-261 216,-261 216,-193 362,-193 362,-261\"/>\r\n",
       "<text text-anchor=\"middle\" x=\"289\" y=\"-245.8\" font-family=\"Helvetica,sans-Serif\" font-size=\"14.00\">X[0] &lt;= 59999.074</text>\r\n",
       "<text text-anchor=\"middle\" x=\"289\" y=\"-230.8\" font-family=\"Helvetica,sans-Serif\" font-size=\"14.00\">gini = 0.487</text>\r\n",
       "<text text-anchor=\"middle\" x=\"289\" y=\"-215.8\" font-family=\"Helvetica,sans-Serif\" font-size=\"14.00\">samples = 7500</text>\r\n",
       "<text text-anchor=\"middle\" x=\"289\" y=\"-200.8\" font-family=\"Helvetica,sans-Serif\" font-size=\"14.00\">value = [3150, 4350]</text>\r\n",
       "</g>\r\n",
       "<!-- 1 -->\r\n",
       "<g id=\"node2\" class=\"node\"><title>1</title>\r\n",
       "<polygon fill=\"none\" stroke=\"black\" points=\"278,-157 140,-157 140,-89 278,-89 278,-157\"/>\r\n",
       "<text text-anchor=\"middle\" x=\"209\" y=\"-141.8\" font-family=\"Helvetica,sans-Serif\" font-size=\"14.00\">X[0] &lt;= 40070.154</text>\r\n",
       "<text text-anchor=\"middle\" x=\"209\" y=\"-126.8\" font-family=\"Helvetica,sans-Serif\" font-size=\"14.00\">gini = 0.202</text>\r\n",
       "<text text-anchor=\"middle\" x=\"209\" y=\"-111.8\" font-family=\"Helvetica,sans-Serif\" font-size=\"14.00\">samples = 3248</text>\r\n",
       "<text text-anchor=\"middle\" x=\"209\" y=\"-96.8\" font-family=\"Helvetica,sans-Serif\" font-size=\"14.00\">value = [370, 2878]</text>\r\n",
       "</g>\r\n",
       "<!-- 0&#45;&gt;1 -->\r\n",
       "<g id=\"edge1\" class=\"edge\"><title>0&#45;&gt;1</title>\r\n",
       "<path fill=\"none\" stroke=\"black\" d=\"M263.026,-192.884C256.11,-184.065 248.553,-174.43 241.341,-165.235\"/>\r\n",
       "<polygon fill=\"black\" stroke=\"black\" points=\"244.043,-163.008 235.117,-157.299 238.535,-167.328 244.043,-163.008\"/>\r\n",
       "<text text-anchor=\"middle\" x=\"232.117\" y=\"-178.419\" font-family=\"Helvetica,sans-Serif\" font-size=\"14.00\">True</text>\r\n",
       "</g>\r\n",
       "<!-- 4 -->\r\n",
       "<g id=\"node5\" class=\"node\"><title>4</title>\r\n",
       "<polygon fill=\"none\" stroke=\"black\" points=\"442,-157 296,-157 296,-89 442,-89 442,-157\"/>\r\n",
       "<text text-anchor=\"middle\" x=\"369\" y=\"-141.8\" font-family=\"Helvetica,sans-Serif\" font-size=\"14.00\">X[2] &lt;= 24112.741</text>\r\n",
       "<text text-anchor=\"middle\" x=\"369\" y=\"-126.8\" font-family=\"Helvetica,sans-Serif\" font-size=\"14.00\">gini = 0.453</text>\r\n",
       "<text text-anchor=\"middle\" x=\"369\" y=\"-111.8\" font-family=\"Helvetica,sans-Serif\" font-size=\"14.00\">samples = 4252</text>\r\n",
       "<text text-anchor=\"middle\" x=\"369\" y=\"-96.8\" font-family=\"Helvetica,sans-Serif\" font-size=\"14.00\">value = [2780, 1472]</text>\r\n",
       "</g>\r\n",
       "<!-- 0&#45;&gt;4 -->\r\n",
       "<g id=\"edge4\" class=\"edge\"><title>0&#45;&gt;4</title>\r\n",
       "<path fill=\"none\" stroke=\"black\" d=\"M314.974,-192.884C321.89,-184.065 329.447,-174.43 336.659,-165.235\"/>\r\n",
       "<polygon fill=\"black\" stroke=\"black\" points=\"339.465,-167.328 342.883,-157.299 333.957,-163.008 339.465,-167.328\"/>\r\n",
       "<text text-anchor=\"middle\" x=\"345.883\" y=\"-178.419\" font-family=\"Helvetica,sans-Serif\" font-size=\"14.00\">False</text>\r\n",
       "</g>\r\n",
       "<!-- 2 -->\r\n",
       "<g id=\"node3\" class=\"node\"><title>2</title>\r\n",
       "<polygon fill=\"none\" stroke=\"black\" points=\"122,-53 7.10543e-015,-53 7.10543e-015,-0 122,-0 122,-53\"/>\r\n",
       "<text text-anchor=\"middle\" x=\"61\" y=\"-37.8\" font-family=\"Helvetica,sans-Serif\" font-size=\"14.00\">gini = 0.0</text>\r\n",
       "<text text-anchor=\"middle\" x=\"61\" y=\"-22.8\" font-family=\"Helvetica,sans-Serif\" font-size=\"14.00\">samples = 1441</text>\r\n",
       "<text text-anchor=\"middle\" x=\"61\" y=\"-7.8\" font-family=\"Helvetica,sans-Serif\" font-size=\"14.00\">value = [0, 1441]</text>\r\n",
       "</g>\r\n",
       "<!-- 1&#45;&gt;2 -->\r\n",
       "<g id=\"edge2\" class=\"edge\"><title>1&#45;&gt;2</title>\r\n",
       "<path fill=\"none\" stroke=\"black\" d=\"M157.237,-88.9485C141.907,-79.1601 125.173,-68.4756 110.022,-58.8015\"/>\r\n",
       "<polygon fill=\"black\" stroke=\"black\" points=\"111.619,-55.6685 101.307,-53.2367 107.852,-61.5683 111.619,-55.6685\"/>\r\n",
       "</g>\r\n",
       "<!-- 3 -->\r\n",
       "<g id=\"node4\" class=\"node\"><title>3</title>\r\n",
       "<polygon fill=\"none\" stroke=\"black\" points=\"278,-53 140,-53 140,-0 278,-0 278,-53\"/>\r\n",
       "<text text-anchor=\"middle\" x=\"209\" y=\"-37.8\" font-family=\"Helvetica,sans-Serif\" font-size=\"14.00\">gini = 0.326</text>\r\n",
       "<text text-anchor=\"middle\" x=\"209\" y=\"-22.8\" font-family=\"Helvetica,sans-Serif\" font-size=\"14.00\">samples = 1807</text>\r\n",
       "<text text-anchor=\"middle\" x=\"209\" y=\"-7.8\" font-family=\"Helvetica,sans-Serif\" font-size=\"14.00\">value = [370, 1437]</text>\r\n",
       "</g>\r\n",
       "<!-- 1&#45;&gt;3 -->\r\n",
       "<g id=\"edge3\" class=\"edge\"><title>1&#45;&gt;3</title>\r\n",
       "<path fill=\"none\" stroke=\"black\" d=\"M209,-88.9485C209,-80.7153 209,-71.848 209,-63.4814\"/>\r\n",
       "<polygon fill=\"black\" stroke=\"black\" points=\"212.5,-63.2367 209,-53.2367 205.5,-63.2367 212.5,-63.2367\"/>\r\n",
       "</g>\r\n",
       "<!-- 5 -->\r\n",
       "<g id=\"node6\" class=\"node\"><title>5</title>\r\n",
       "<polygon fill=\"none\" stroke=\"black\" points=\"442,-53 296,-53 296,-0 442,-0 442,-53\"/>\r\n",
       "<text text-anchor=\"middle\" x=\"369\" y=\"-37.8\" font-family=\"Helvetica,sans-Serif\" font-size=\"14.00\">gini = 0.498</text>\r\n",
       "<text text-anchor=\"middle\" x=\"369\" y=\"-22.8\" font-family=\"Helvetica,sans-Serif\" font-size=\"14.00\">samples = 2649</text>\r\n",
       "<text text-anchor=\"middle\" x=\"369\" y=\"-7.8\" font-family=\"Helvetica,sans-Serif\" font-size=\"14.00\">value = [1409, 1240]</text>\r\n",
       "</g>\r\n",
       "<!-- 4&#45;&gt;5 -->\r\n",
       "<g id=\"edge5\" class=\"edge\"><title>4&#45;&gt;5</title>\r\n",
       "<path fill=\"none\" stroke=\"black\" d=\"M369,-88.9485C369,-80.7153 369,-71.848 369,-63.4814\"/>\r\n",
       "<polygon fill=\"black\" stroke=\"black\" points=\"372.5,-63.2367 369,-53.2367 365.5,-63.2367 372.5,-63.2367\"/>\r\n",
       "</g>\r\n",
       "<!-- 6 -->\r\n",
       "<g id=\"node7\" class=\"node\"><title>6</title>\r\n",
       "<polygon fill=\"none\" stroke=\"black\" points=\"598,-53 460,-53 460,-0 598,-0 598,-53\"/>\r\n",
       "<text text-anchor=\"middle\" x=\"529\" y=\"-37.8\" font-family=\"Helvetica,sans-Serif\" font-size=\"14.00\">gini = 0.248</text>\r\n",
       "<text text-anchor=\"middle\" x=\"529\" y=\"-22.8\" font-family=\"Helvetica,sans-Serif\" font-size=\"14.00\">samples = 1603</text>\r\n",
       "<text text-anchor=\"middle\" x=\"529\" y=\"-7.8\" font-family=\"Helvetica,sans-Serif\" font-size=\"14.00\">value = [1371, 232]</text>\r\n",
       "</g>\r\n",
       "<!-- 4&#45;&gt;6 -->\r\n",
       "<g id=\"edge6\" class=\"edge\"><title>4&#45;&gt;6</title>\r\n",
       "<path fill=\"none\" stroke=\"black\" d=\"M424.96,-88.9485C441.764,-79.0237 460.128,-68.1776 476.686,-58.3977\"/>\r\n",
       "<polygon fill=\"black\" stroke=\"black\" points=\"478.848,-61.1858 485.679,-53.0867 475.288,-55.1586 478.848,-61.1858\"/>\r\n",
       "</g>\r\n",
       "</g>\r\n",
       "</svg>\r\n"
      ],
      "text/plain": [
       "<graphviz.files.Source at 0x24bc6b83f10>"
      ]
     },
     "execution_count": 60,
     "metadata": {},
     "output_type": "execute_result"
    }
   ],
   "source": [
    "# Exportar a visualização gráfica da árvore de decisões. O nome dessa função é export_graphviz\n",
    "from sklearn.tree import export_graphviz\n",
    "\n",
    "dot_data = export_graphviz(modelo, out_file=None)\n",
    "grafico = graphviz.Source(dot_data)\n",
    "grafico"
   ]
  },
  {
   "cell_type": "code",
   "execution_count": 61,
   "id": "626713a1-48d6-4fdb-be95-104cdd0cb483",
   "metadata": {},
   "outputs": [
    {
     "data": {
      "image/svg+xml": [
       "<?xml version=\"1.0\" encoding=\"UTF-8\" standalone=\"no\"?>\r\n",
       "<!DOCTYPE svg PUBLIC \"-//W3C//DTD SVG 1.1//EN\"\r\n",
       " \"http://www.w3.org/Graphics/SVG/1.1/DTD/svg11.dtd\">\r\n",
       "<!-- Generated by graphviz version 2.38.0 (20140413.2041)\r\n",
       " -->\r\n",
       "<!-- Title: Tree Pages: 1 -->\r\n",
       "<svg width=\"619pt\" height=\"314pt\"\r\n",
       " viewBox=\"0.00 0.00 619.00 314.00\" xmlns=\"http://www.w3.org/2000/svg\" xmlns:xlink=\"http://www.w3.org/1999/xlink\">\r\n",
       "<g id=\"graph0\" class=\"graph\" transform=\"scale(1 1) rotate(0) translate(4 310)\">\r\n",
       "<title>Tree</title>\r\n",
       "<polygon fill=\"white\" stroke=\"none\" points=\"-4,4 -4,-310 615,-310 615,4 -4,4\"/>\r\n",
       "<!-- 0 -->\r\n",
       "<g id=\"node1\" class=\"node\"><title>0</title>\r\n",
       "<path fill=\"#c8e4f8\" stroke=\"black\" d=\"M356.5,-306C356.5,-306 233.5,-306 233.5,-306 227.5,-306 221.5,-300 221.5,-294 221.5,-294 221.5,-235 221.5,-235 221.5,-229 227.5,-223 233.5,-223 233.5,-223 356.5,-223 356.5,-223 362.5,-223 368.5,-229 368.5,-235 368.5,-235 368.5,-294 368.5,-294 368.5,-300 362.5,-306 356.5,-306\"/>\r\n",
       "<text text-anchor=\"middle\" x=\"295\" y=\"-290.8\" font-family=\"Helvetica,sans-Serif\" font-size=\"14.00\">preco &lt;= 59999.074</text>\r\n",
       "<text text-anchor=\"middle\" x=\"295\" y=\"-275.8\" font-family=\"Helvetica,sans-Serif\" font-size=\"14.00\">gini = 0.487</text>\r\n",
       "<text text-anchor=\"middle\" x=\"295\" y=\"-260.8\" font-family=\"Helvetica,sans-Serif\" font-size=\"14.00\">samples = 7500</text>\r\n",
       "<text text-anchor=\"middle\" x=\"295\" y=\"-245.8\" font-family=\"Helvetica,sans-Serif\" font-size=\"14.00\">value = [3150, 4350]</text>\r\n",
       "<text text-anchor=\"middle\" x=\"295\" y=\"-230.8\" font-family=\"Helvetica,sans-Serif\" font-size=\"14.00\">class = sim</text>\r\n",
       "</g>\r\n",
       "<!-- 1 -->\r\n",
       "<g id=\"node2\" class=\"node\"><title>1</title>\r\n",
       "<path fill=\"#52aae8\" stroke=\"black\" d=\"M263.5,-187C263.5,-187 140.5,-187 140.5,-187 134.5,-187 128.5,-181 128.5,-175 128.5,-175 128.5,-116 128.5,-116 128.5,-110 134.5,-104 140.5,-104 140.5,-104 263.5,-104 263.5,-104 269.5,-104 275.5,-110 275.5,-116 275.5,-116 275.5,-175 275.5,-175 275.5,-181 269.5,-187 263.5,-187\"/>\r\n",
       "<text text-anchor=\"middle\" x=\"202\" y=\"-171.8\" font-family=\"Helvetica,sans-Serif\" font-size=\"14.00\">preco &lt;= 40070.154</text>\r\n",
       "<text text-anchor=\"middle\" x=\"202\" y=\"-156.8\" font-family=\"Helvetica,sans-Serif\" font-size=\"14.00\">gini = 0.202</text>\r\n",
       "<text text-anchor=\"middle\" x=\"202\" y=\"-141.8\" font-family=\"Helvetica,sans-Serif\" font-size=\"14.00\">samples = 3248</text>\r\n",
       "<text text-anchor=\"middle\" x=\"202\" y=\"-126.8\" font-family=\"Helvetica,sans-Serif\" font-size=\"14.00\">value = [370, 2878]</text>\r\n",
       "<text text-anchor=\"middle\" x=\"202\" y=\"-111.8\" font-family=\"Helvetica,sans-Serif\" font-size=\"14.00\">class = sim</text>\r\n",
       "</g>\r\n",
       "<!-- 0&#45;&gt;1 -->\r\n",
       "<g id=\"edge1\" class=\"edge\"><title>0&#45;&gt;1</title>\r\n",
       "<path fill=\"none\" stroke=\"black\" d=\"M262.734,-222.907C255.593,-213.923 247.956,-204.315 240.591,-195.05\"/>\r\n",
       "<polygon fill=\"black\" stroke=\"black\" points=\"243.171,-192.671 234.209,-187.021 237.691,-197.027 243.171,-192.671\"/>\r\n",
       "<text text-anchor=\"middle\" x=\"231.37\" y=\"-208.159\" font-family=\"Helvetica,sans-Serif\" font-size=\"14.00\">True</text>\r\n",
       "</g>\r\n",
       "<!-- 4 -->\r\n",
       "<g id=\"node5\" class=\"node\"><title>4</title>\r\n",
       "<path fill=\"#f3c4a2\" stroke=\"black\" d=\"M472,-187C472,-187 306,-187 306,-187 300,-187 294,-181 294,-175 294,-175 294,-116 294,-116 294,-110 300,-104 306,-104 306,-104 472,-104 472,-104 478,-104 484,-110 484,-116 484,-116 484,-175 484,-175 484,-181 478,-187 472,-187\"/>\r\n",
       "<text text-anchor=\"middle\" x=\"389\" y=\"-171.8\" font-family=\"Helvetica,sans-Serif\" font-size=\"14.00\">km_por_ano &lt;= 24112.741</text>\r\n",
       "<text text-anchor=\"middle\" x=\"389\" y=\"-156.8\" font-family=\"Helvetica,sans-Serif\" font-size=\"14.00\">gini = 0.453</text>\r\n",
       "<text text-anchor=\"middle\" x=\"389\" y=\"-141.8\" font-family=\"Helvetica,sans-Serif\" font-size=\"14.00\">samples = 4252</text>\r\n",
       "<text text-anchor=\"middle\" x=\"389\" y=\"-126.8\" font-family=\"Helvetica,sans-Serif\" font-size=\"14.00\">value = [2780, 1472]</text>\r\n",
       "<text text-anchor=\"middle\" x=\"389\" y=\"-111.8\" font-family=\"Helvetica,sans-Serif\" font-size=\"14.00\">class = não</text>\r\n",
       "</g>\r\n",
       "<!-- 0&#45;&gt;4 -->\r\n",
       "<g id=\"edge4\" class=\"edge\"><title>0&#45;&gt;4</title>\r\n",
       "<path fill=\"none\" stroke=\"black\" d=\"M327.613,-222.907C334.831,-213.923 342.55,-204.315 349.994,-195.05\"/>\r\n",
       "<polygon fill=\"black\" stroke=\"black\" points=\"352.91,-197.009 356.445,-187.021 347.453,-192.624 352.91,-197.009\"/>\r\n",
       "<text text-anchor=\"middle\" x=\"359.154\" y=\"-208.174\" font-family=\"Helvetica,sans-Serif\" font-size=\"14.00\">False</text>\r\n",
       "</g>\r\n",
       "<!-- 2 -->\r\n",
       "<g id=\"node3\" class=\"node\"><title>2</title>\r\n",
       "<path fill=\"#399de5\" stroke=\"black\" d=\"M110,-68C110,-68 12,-68 12,-68 6,-68 7.10543e-015,-62 7.10543e-015,-56 7.10543e-015,-56 7.10543e-015,-12 7.10543e-015,-12 7.10543e-015,-6 6,-0 12,-0 12,-0 110,-0 110,-0 116,-0 122,-6 122,-12 122,-12 122,-56 122,-56 122,-62 116,-68 110,-68\"/>\r\n",
       "<text text-anchor=\"middle\" x=\"61\" y=\"-52.8\" font-family=\"Helvetica,sans-Serif\" font-size=\"14.00\">gini = 0.0</text>\r\n",
       "<text text-anchor=\"middle\" x=\"61\" y=\"-37.8\" font-family=\"Helvetica,sans-Serif\" font-size=\"14.00\">samples = 1441</text>\r\n",
       "<text text-anchor=\"middle\" x=\"61\" y=\"-22.8\" font-family=\"Helvetica,sans-Serif\" font-size=\"14.00\">value = [0, 1441]</text>\r\n",
       "<text text-anchor=\"middle\" x=\"61\" y=\"-7.8\" font-family=\"Helvetica,sans-Serif\" font-size=\"14.00\">class = sim</text>\r\n",
       "</g>\r\n",
       "<!-- 1&#45;&gt;2 -->\r\n",
       "<g id=\"edge2\" class=\"edge\"><title>1&#45;&gt;2</title>\r\n",
       "<path fill=\"none\" stroke=\"black\" d=\"M149.497,-103.726C137.165,-94.1494 124.046,-83.9611 111.791,-74.4438\"/>\r\n",
       "<polygon fill=\"black\" stroke=\"black\" points=\"113.924,-71.6689 103.879,-68.2996 109.63,-77.1975 113.924,-71.6689\"/>\r\n",
       "</g>\r\n",
       "<!-- 3 -->\r\n",
       "<g id=\"node4\" class=\"node\"><title>3</title>\r\n",
       "<path fill=\"#6cb6ec\" stroke=\"black\" d=\"M266,-68C266,-68 152,-68 152,-68 146,-68 140,-62 140,-56 140,-56 140,-12 140,-12 140,-6 146,-0 152,-0 152,-0 266,-0 266,-0 272,-0 278,-6 278,-12 278,-12 278,-56 278,-56 278,-62 272,-68 266,-68\"/>\r\n",
       "<text text-anchor=\"middle\" x=\"209\" y=\"-52.8\" font-family=\"Helvetica,sans-Serif\" font-size=\"14.00\">gini = 0.326</text>\r\n",
       "<text text-anchor=\"middle\" x=\"209\" y=\"-37.8\" font-family=\"Helvetica,sans-Serif\" font-size=\"14.00\">samples = 1807</text>\r\n",
       "<text text-anchor=\"middle\" x=\"209\" y=\"-22.8\" font-family=\"Helvetica,sans-Serif\" font-size=\"14.00\">value = [370, 1437]</text>\r\n",
       "<text text-anchor=\"middle\" x=\"209\" y=\"-7.8\" font-family=\"Helvetica,sans-Serif\" font-size=\"14.00\">class = sim</text>\r\n",
       "</g>\r\n",
       "<!-- 1&#45;&gt;3 -->\r\n",
       "<g id=\"edge3\" class=\"edge\"><title>1&#45;&gt;3</title>\r\n",
       "<path fill=\"none\" stroke=\"black\" d=\"M204.607,-103.726C205.137,-95.4263 205.697,-86.6671 206.233,-78.2834\"/>\r\n",
       "<polygon fill=\"black\" stroke=\"black\" points=\"209.726,-78.5025 206.871,-68.2996 202.74,-78.0559 209.726,-78.5025\"/>\r\n",
       "</g>\r\n",
       "<!-- 5 -->\r\n",
       "<g id=\"node6\" class=\"node\"><title>5</title>\r\n",
       "<path fill=\"#fcf0e7\" stroke=\"black\" d=\"M443,-68C443,-68 321,-68 321,-68 315,-68 309,-62 309,-56 309,-56 309,-12 309,-12 309,-6 315,-0 321,-0 321,-0 443,-0 443,-0 449,-0 455,-6 455,-12 455,-12 455,-56 455,-56 455,-62 449,-68 443,-68\"/>\r\n",
       "<text text-anchor=\"middle\" x=\"382\" y=\"-52.8\" font-family=\"Helvetica,sans-Serif\" font-size=\"14.00\">gini = 0.498</text>\r\n",
       "<text text-anchor=\"middle\" x=\"382\" y=\"-37.8\" font-family=\"Helvetica,sans-Serif\" font-size=\"14.00\">samples = 2649</text>\r\n",
       "<text text-anchor=\"middle\" x=\"382\" y=\"-22.8\" font-family=\"Helvetica,sans-Serif\" font-size=\"14.00\">value = [1409, 1240]</text>\r\n",
       "<text text-anchor=\"middle\" x=\"382\" y=\"-7.8\" font-family=\"Helvetica,sans-Serif\" font-size=\"14.00\">class = não</text>\r\n",
       "</g>\r\n",
       "<!-- 4&#45;&gt;5 -->\r\n",
       "<g id=\"edge5\" class=\"edge\"><title>4&#45;&gt;5</title>\r\n",
       "<path fill=\"none\" stroke=\"black\" d=\"M386.393,-103.726C385.863,-95.4263 385.303,-86.6671 384.767,-78.2834\"/>\r\n",
       "<polygon fill=\"black\" stroke=\"black\" points=\"388.26,-78.0559 384.129,-68.2996 381.274,-78.5025 388.26,-78.0559\"/>\r\n",
       "</g>\r\n",
       "<!-- 6 -->\r\n",
       "<g id=\"node7\" class=\"node\"><title>6</title>\r\n",
       "<path fill=\"#e9965b\" stroke=\"black\" d=\"M599,-68C599,-68 485,-68 485,-68 479,-68 473,-62 473,-56 473,-56 473,-12 473,-12 473,-6 479,-0 485,-0 485,-0 599,-0 599,-0 605,-0 611,-6 611,-12 611,-12 611,-56 611,-56 611,-62 605,-68 599,-68\"/>\r\n",
       "<text text-anchor=\"middle\" x=\"542\" y=\"-52.8\" font-family=\"Helvetica,sans-Serif\" font-size=\"14.00\">gini = 0.248</text>\r\n",
       "<text text-anchor=\"middle\" x=\"542\" y=\"-37.8\" font-family=\"Helvetica,sans-Serif\" font-size=\"14.00\">samples = 1603</text>\r\n",
       "<text text-anchor=\"middle\" x=\"542\" y=\"-22.8\" font-family=\"Helvetica,sans-Serif\" font-size=\"14.00\">value = [1371, 232]</text>\r\n",
       "<text text-anchor=\"middle\" x=\"542\" y=\"-7.8\" font-family=\"Helvetica,sans-Serif\" font-size=\"14.00\">class = não</text>\r\n",
       "</g>\r\n",
       "<!-- 4&#45;&gt;6 -->\r\n",
       "<g id=\"edge6\" class=\"edge\"><title>4&#45;&gt;6</title>\r\n",
       "<path fill=\"none\" stroke=\"black\" d=\"M445.972,-103.726C459.48,-94.0582 473.86,-83.767 487.266,-74.172\"/>\r\n",
       "<polygon fill=\"black\" stroke=\"black\" points=\"489.377,-76.9657 495.472,-68.2996 485.303,-71.2734 489.377,-76.9657\"/>\r\n",
       "</g>\r\n",
       "</g>\r\n",
       "</svg>\r\n"
      ],
      "text/plain": [
       "<graphviz.files.Source at 0x24beb579820>"
      ]
     },
     "execution_count": 61,
     "metadata": {},
     "output_type": "execute_result"
    }
   ],
   "source": [
    "# Passar nome das features\n",
    "# Quadros coloridos e com bordas arredondadas (filled = True, rounded _ True)\n",
    "from sklearn.tree import export_graphviz\n",
    "import graphviz\n",
    "\n",
    "features = x.columns\n",
    "dot_data = export_graphviz(modelo, out_file=None,\n",
    "                           filled = True, rounded = True,\n",
    "                           feature_names = features,\n",
    "                          class_names = [\"não\", \"sim\"])\n",
    "grafico = graphviz.Source(dot_data)\n",
    "grafico"
   ]
  },
  {
   "cell_type": "markdown",
   "id": "ebeffb8d-aa74-4b3b-aecd-56bc6bcba585",
   "metadata": {},
   "source": [
    "* Se um preço for menor que um valor específico, o item será direcionado para a classe \"sim\", por exemplo, simbolizada pela cor azul. No caso de classificação negativa, teremos a cor laranja. O branco representa uma espécie de incerteza quanto à classificação."
   ]
  },
  {
   "cell_type": "code",
   "execution_count": 62,
   "id": "9858d895-c013-468b-a590-2c1fe10d12ce",
   "metadata": {},
   "outputs": [
    {
     "name": "stdout",
     "output_type": "stream",
     "text": [
      "Treinaremos com 7500 elementos e testaremos com 2500 elementos\n"
     ]
    }
   ],
   "source": [
    "SEED = 5\n",
    "np.random.seed(SEED)\n",
    "raw_treino_x, raw_teste_x, treino_y, teste_y = train_test_split(x, y, test_size = 0.25,\n",
    "                                                         stratify = y)\n",
    "print(\"Treinaremos com %d elementos e testaremos com %d elementos\" % (len(treino_x), len(teste_x)))\n",
    "\n",
    "modelo = DecisionTreeClassifier(max_depth=2)\n",
    "modelo.fit(raw_treino_x, treino_y)\n",
    "previsoes = modelo.predict(raw_teste_x)"
   ]
  },
  {
   "cell_type": "code",
   "execution_count": 63,
   "id": "382ebb04-8871-433c-8433-197d58510335",
   "metadata": {},
   "outputs": [
    {
     "data": {
      "image/svg+xml": [
       "<?xml version=\"1.0\" encoding=\"UTF-8\" standalone=\"no\"?>\r\n",
       "<!DOCTYPE svg PUBLIC \"-//W3C//DTD SVG 1.1//EN\"\r\n",
       " \"http://www.w3.org/Graphics/SVG/1.1/DTD/svg11.dtd\">\r\n",
       "<!-- Generated by graphviz version 2.38.0 (20140413.2041)\r\n",
       " -->\r\n",
       "<!-- Title: Tree Pages: 1 -->\r\n",
       "<svg width=\"619pt\" height=\"314pt\"\r\n",
       " viewBox=\"0.00 0.00 619.00 314.00\" xmlns=\"http://www.w3.org/2000/svg\" xmlns:xlink=\"http://www.w3.org/1999/xlink\">\r\n",
       "<g id=\"graph0\" class=\"graph\" transform=\"scale(1 1) rotate(0) translate(4 310)\">\r\n",
       "<title>Tree</title>\r\n",
       "<polygon fill=\"white\" stroke=\"none\" points=\"-4,4 -4,-310 615,-310 615,4 -4,4\"/>\r\n",
       "<!-- 0 -->\r\n",
       "<g id=\"node1\" class=\"node\"><title>0</title>\r\n",
       "<path fill=\"#c8e4f8\" stroke=\"black\" d=\"M356.5,-306C356.5,-306 233.5,-306 233.5,-306 227.5,-306 221.5,-300 221.5,-294 221.5,-294 221.5,-235 221.5,-235 221.5,-229 227.5,-223 233.5,-223 233.5,-223 356.5,-223 356.5,-223 362.5,-223 368.5,-229 368.5,-235 368.5,-235 368.5,-294 368.5,-294 368.5,-300 362.5,-306 356.5,-306\"/>\r\n",
       "<text text-anchor=\"middle\" x=\"295\" y=\"-290.8\" font-family=\"Helvetica,sans-Serif\" font-size=\"14.00\">preco &lt;= 59999.074</text>\r\n",
       "<text text-anchor=\"middle\" x=\"295\" y=\"-275.8\" font-family=\"Helvetica,sans-Serif\" font-size=\"14.00\">gini = 0.487</text>\r\n",
       "<text text-anchor=\"middle\" x=\"295\" y=\"-260.8\" font-family=\"Helvetica,sans-Serif\" font-size=\"14.00\">samples = 7500</text>\r\n",
       "<text text-anchor=\"middle\" x=\"295\" y=\"-245.8\" font-family=\"Helvetica,sans-Serif\" font-size=\"14.00\">value = [3150, 4350]</text>\r\n",
       "<text text-anchor=\"middle\" x=\"295\" y=\"-230.8\" font-family=\"Helvetica,sans-Serif\" font-size=\"14.00\">class = sim</text>\r\n",
       "</g>\r\n",
       "<!-- 1 -->\r\n",
       "<g id=\"node2\" class=\"node\"><title>1</title>\r\n",
       "<path fill=\"#52aae8\" stroke=\"black\" d=\"M263.5,-187C263.5,-187 140.5,-187 140.5,-187 134.5,-187 128.5,-181 128.5,-175 128.5,-175 128.5,-116 128.5,-116 128.5,-110 134.5,-104 140.5,-104 140.5,-104 263.5,-104 263.5,-104 269.5,-104 275.5,-110 275.5,-116 275.5,-116 275.5,-175 275.5,-175 275.5,-181 269.5,-187 263.5,-187\"/>\r\n",
       "<text text-anchor=\"middle\" x=\"202\" y=\"-171.8\" font-family=\"Helvetica,sans-Serif\" font-size=\"14.00\">preco &lt;= 40070.154</text>\r\n",
       "<text text-anchor=\"middle\" x=\"202\" y=\"-156.8\" font-family=\"Helvetica,sans-Serif\" font-size=\"14.00\">gini = 0.202</text>\r\n",
       "<text text-anchor=\"middle\" x=\"202\" y=\"-141.8\" font-family=\"Helvetica,sans-Serif\" font-size=\"14.00\">samples = 3248</text>\r\n",
       "<text text-anchor=\"middle\" x=\"202\" y=\"-126.8\" font-family=\"Helvetica,sans-Serif\" font-size=\"14.00\">value = [370, 2878]</text>\r\n",
       "<text text-anchor=\"middle\" x=\"202\" y=\"-111.8\" font-family=\"Helvetica,sans-Serif\" font-size=\"14.00\">class = sim</text>\r\n",
       "</g>\r\n",
       "<!-- 0&#45;&gt;1 -->\r\n",
       "<g id=\"edge1\" class=\"edge\"><title>0&#45;&gt;1</title>\r\n",
       "<path fill=\"none\" stroke=\"black\" d=\"M262.734,-222.907C255.593,-213.923 247.956,-204.315 240.591,-195.05\"/>\r\n",
       "<polygon fill=\"black\" stroke=\"black\" points=\"243.171,-192.671 234.209,-187.021 237.691,-197.027 243.171,-192.671\"/>\r\n",
       "<text text-anchor=\"middle\" x=\"231.37\" y=\"-208.159\" font-family=\"Helvetica,sans-Serif\" font-size=\"14.00\">True</text>\r\n",
       "</g>\r\n",
       "<!-- 4 -->\r\n",
       "<g id=\"node5\" class=\"node\"><title>4</title>\r\n",
       "<path fill=\"#f3c4a2\" stroke=\"black\" d=\"M472,-187C472,-187 306,-187 306,-187 300,-187 294,-181 294,-175 294,-175 294,-116 294,-116 294,-110 300,-104 306,-104 306,-104 472,-104 472,-104 478,-104 484,-110 484,-116 484,-116 484,-175 484,-175 484,-181 478,-187 472,-187\"/>\r\n",
       "<text text-anchor=\"middle\" x=\"389\" y=\"-171.8\" font-family=\"Helvetica,sans-Serif\" font-size=\"14.00\">km_por_ano &lt;= 24112.741</text>\r\n",
       "<text text-anchor=\"middle\" x=\"389\" y=\"-156.8\" font-family=\"Helvetica,sans-Serif\" font-size=\"14.00\">gini = 0.453</text>\r\n",
       "<text text-anchor=\"middle\" x=\"389\" y=\"-141.8\" font-family=\"Helvetica,sans-Serif\" font-size=\"14.00\">samples = 4252</text>\r\n",
       "<text text-anchor=\"middle\" x=\"389\" y=\"-126.8\" font-family=\"Helvetica,sans-Serif\" font-size=\"14.00\">value = [2780, 1472]</text>\r\n",
       "<text text-anchor=\"middle\" x=\"389\" y=\"-111.8\" font-family=\"Helvetica,sans-Serif\" font-size=\"14.00\">class = não</text>\r\n",
       "</g>\r\n",
       "<!-- 0&#45;&gt;4 -->\r\n",
       "<g id=\"edge4\" class=\"edge\"><title>0&#45;&gt;4</title>\r\n",
       "<path fill=\"none\" stroke=\"black\" d=\"M327.613,-222.907C334.831,-213.923 342.55,-204.315 349.994,-195.05\"/>\r\n",
       "<polygon fill=\"black\" stroke=\"black\" points=\"352.91,-197.009 356.445,-187.021 347.453,-192.624 352.91,-197.009\"/>\r\n",
       "<text text-anchor=\"middle\" x=\"359.154\" y=\"-208.174\" font-family=\"Helvetica,sans-Serif\" font-size=\"14.00\">False</text>\r\n",
       "</g>\r\n",
       "<!-- 2 -->\r\n",
       "<g id=\"node3\" class=\"node\"><title>2</title>\r\n",
       "<path fill=\"#399de5\" stroke=\"black\" d=\"M110,-68C110,-68 12,-68 12,-68 6,-68 7.10543e-015,-62 7.10543e-015,-56 7.10543e-015,-56 7.10543e-015,-12 7.10543e-015,-12 7.10543e-015,-6 6,-0 12,-0 12,-0 110,-0 110,-0 116,-0 122,-6 122,-12 122,-12 122,-56 122,-56 122,-62 116,-68 110,-68\"/>\r\n",
       "<text text-anchor=\"middle\" x=\"61\" y=\"-52.8\" font-family=\"Helvetica,sans-Serif\" font-size=\"14.00\">gini = 0.0</text>\r\n",
       "<text text-anchor=\"middle\" x=\"61\" y=\"-37.8\" font-family=\"Helvetica,sans-Serif\" font-size=\"14.00\">samples = 1441</text>\r\n",
       "<text text-anchor=\"middle\" x=\"61\" y=\"-22.8\" font-family=\"Helvetica,sans-Serif\" font-size=\"14.00\">value = [0, 1441]</text>\r\n",
       "<text text-anchor=\"middle\" x=\"61\" y=\"-7.8\" font-family=\"Helvetica,sans-Serif\" font-size=\"14.00\">class = sim</text>\r\n",
       "</g>\r\n",
       "<!-- 1&#45;&gt;2 -->\r\n",
       "<g id=\"edge2\" class=\"edge\"><title>1&#45;&gt;2</title>\r\n",
       "<path fill=\"none\" stroke=\"black\" d=\"M149.497,-103.726C137.165,-94.1494 124.046,-83.9611 111.791,-74.4438\"/>\r\n",
       "<polygon fill=\"black\" stroke=\"black\" points=\"113.924,-71.6689 103.879,-68.2996 109.63,-77.1975 113.924,-71.6689\"/>\r\n",
       "</g>\r\n",
       "<!-- 3 -->\r\n",
       "<g id=\"node4\" class=\"node\"><title>3</title>\r\n",
       "<path fill=\"#6cb6ec\" stroke=\"black\" d=\"M266,-68C266,-68 152,-68 152,-68 146,-68 140,-62 140,-56 140,-56 140,-12 140,-12 140,-6 146,-0 152,-0 152,-0 266,-0 266,-0 272,-0 278,-6 278,-12 278,-12 278,-56 278,-56 278,-62 272,-68 266,-68\"/>\r\n",
       "<text text-anchor=\"middle\" x=\"209\" y=\"-52.8\" font-family=\"Helvetica,sans-Serif\" font-size=\"14.00\">gini = 0.326</text>\r\n",
       "<text text-anchor=\"middle\" x=\"209\" y=\"-37.8\" font-family=\"Helvetica,sans-Serif\" font-size=\"14.00\">samples = 1807</text>\r\n",
       "<text text-anchor=\"middle\" x=\"209\" y=\"-22.8\" font-family=\"Helvetica,sans-Serif\" font-size=\"14.00\">value = [370, 1437]</text>\r\n",
       "<text text-anchor=\"middle\" x=\"209\" y=\"-7.8\" font-family=\"Helvetica,sans-Serif\" font-size=\"14.00\">class = sim</text>\r\n",
       "</g>\r\n",
       "<!-- 1&#45;&gt;3 -->\r\n",
       "<g id=\"edge3\" class=\"edge\"><title>1&#45;&gt;3</title>\r\n",
       "<path fill=\"none\" stroke=\"black\" d=\"M204.607,-103.726C205.137,-95.4263 205.697,-86.6671 206.233,-78.2834\"/>\r\n",
       "<polygon fill=\"black\" stroke=\"black\" points=\"209.726,-78.5025 206.871,-68.2996 202.74,-78.0559 209.726,-78.5025\"/>\r\n",
       "</g>\r\n",
       "<!-- 5 -->\r\n",
       "<g id=\"node6\" class=\"node\"><title>5</title>\r\n",
       "<path fill=\"#fcf0e7\" stroke=\"black\" d=\"M443,-68C443,-68 321,-68 321,-68 315,-68 309,-62 309,-56 309,-56 309,-12 309,-12 309,-6 315,-0 321,-0 321,-0 443,-0 443,-0 449,-0 455,-6 455,-12 455,-12 455,-56 455,-56 455,-62 449,-68 443,-68\"/>\r\n",
       "<text text-anchor=\"middle\" x=\"382\" y=\"-52.8\" font-family=\"Helvetica,sans-Serif\" font-size=\"14.00\">gini = 0.498</text>\r\n",
       "<text text-anchor=\"middle\" x=\"382\" y=\"-37.8\" font-family=\"Helvetica,sans-Serif\" font-size=\"14.00\">samples = 2649</text>\r\n",
       "<text text-anchor=\"middle\" x=\"382\" y=\"-22.8\" font-family=\"Helvetica,sans-Serif\" font-size=\"14.00\">value = [1409, 1240]</text>\r\n",
       "<text text-anchor=\"middle\" x=\"382\" y=\"-7.8\" font-family=\"Helvetica,sans-Serif\" font-size=\"14.00\">class = não</text>\r\n",
       "</g>\r\n",
       "<!-- 4&#45;&gt;5 -->\r\n",
       "<g id=\"edge5\" class=\"edge\"><title>4&#45;&gt;5</title>\r\n",
       "<path fill=\"none\" stroke=\"black\" d=\"M386.393,-103.726C385.863,-95.4263 385.303,-86.6671 384.767,-78.2834\"/>\r\n",
       "<polygon fill=\"black\" stroke=\"black\" points=\"388.26,-78.0559 384.129,-68.2996 381.274,-78.5025 388.26,-78.0559\"/>\r\n",
       "</g>\r\n",
       "<!-- 6 -->\r\n",
       "<g id=\"node7\" class=\"node\"><title>6</title>\r\n",
       "<path fill=\"#e9965b\" stroke=\"black\" d=\"M599,-68C599,-68 485,-68 485,-68 479,-68 473,-62 473,-56 473,-56 473,-12 473,-12 473,-6 479,-0 485,-0 485,-0 599,-0 599,-0 605,-0 611,-6 611,-12 611,-12 611,-56 611,-56 611,-62 605,-68 599,-68\"/>\r\n",
       "<text text-anchor=\"middle\" x=\"542\" y=\"-52.8\" font-family=\"Helvetica,sans-Serif\" font-size=\"14.00\">gini = 0.248</text>\r\n",
       "<text text-anchor=\"middle\" x=\"542\" y=\"-37.8\" font-family=\"Helvetica,sans-Serif\" font-size=\"14.00\">samples = 1603</text>\r\n",
       "<text text-anchor=\"middle\" x=\"542\" y=\"-22.8\" font-family=\"Helvetica,sans-Serif\" font-size=\"14.00\">value = [1371, 232]</text>\r\n",
       "<text text-anchor=\"middle\" x=\"542\" y=\"-7.8\" font-family=\"Helvetica,sans-Serif\" font-size=\"14.00\">class = não</text>\r\n",
       "</g>\r\n",
       "<!-- 4&#45;&gt;6 -->\r\n",
       "<g id=\"edge6\" class=\"edge\"><title>4&#45;&gt;6</title>\r\n",
       "<path fill=\"none\" stroke=\"black\" d=\"M445.972,-103.726C459.48,-94.0582 473.86,-83.767 487.266,-74.172\"/>\r\n",
       "<polygon fill=\"black\" stroke=\"black\" points=\"489.377,-76.9657 495.472,-68.2996 485.303,-71.2734 489.377,-76.9657\"/>\r\n",
       "</g>\r\n",
       "</g>\r\n",
       "</svg>\r\n"
      ],
      "text/plain": [
       "<graphviz.files.Source at 0x24beb579b20>"
      ]
     },
     "execution_count": 63,
     "metadata": {},
     "output_type": "execute_result"
    }
   ],
   "source": [
    "# Passar nome das features\n",
    "# Quadros coloridos e com bordas arredondadas (filled = True, rounded _ True)\n",
    "from sklearn.tree import export_graphviz\n",
    "import graphviz\n",
    "\n",
    "features = x.columns\n",
    "dot_data = export_graphviz(modelo, out_file=None,\n",
    "                           filled = True, rounded = True,\n",
    "                           feature_names = features,\n",
    "                          class_names = [\"não\", \"sim\"])\n",
    "grafico = graphviz.Source(dot_data)\n",
    "grafico"
   ]
  },
  {
   "cell_type": "code",
   "execution_count": 65,
   "id": "f4d8a469-bd1c-485f-b894-b799994fb6b4",
   "metadata": {},
   "outputs": [
    {
     "name": "stdout",
     "output_type": "stream",
     "text": [
      "Treinaremos com 7500 elementos e testaremos com 2500 elementos\n"
     ]
    },
    {
     "data": {
      "image/svg+xml": [
       "<?xml version=\"1.0\" encoding=\"UTF-8\" standalone=\"no\"?>\r\n",
       "<!DOCTYPE svg PUBLIC \"-//W3C//DTD SVG 1.1//EN\"\r\n",
       " \"http://www.w3.org/Graphics/SVG/1.1/DTD/svg11.dtd\">\r\n",
       "<!-- Generated by graphviz version 2.38.0 (20140413.2041)\r\n",
       " -->\r\n",
       "<!-- Title: Tree Pages: 1 -->\r\n",
       "<svg width=\"883pt\" height=\"433pt\"\r\n",
       " viewBox=\"0.00 0.00 883.00 433.00\" xmlns=\"http://www.w3.org/2000/svg\" xmlns:xlink=\"http://www.w3.org/1999/xlink\">\r\n",
       "<g id=\"graph0\" class=\"graph\" transform=\"scale(1 1) rotate(0) translate(4 429)\">\r\n",
       "<title>Tree</title>\r\n",
       "<polygon fill=\"white\" stroke=\"none\" points=\"-4,4 -4,-429 879,-429 879,4 -4,4\"/>\r\n",
       "<!-- 0 -->\r\n",
       "<g id=\"node1\" class=\"node\"><title>0</title>\r\n",
       "<path fill=\"#c8e4f8\" stroke=\"black\" d=\"M393.5,-425C393.5,-425 270.5,-425 270.5,-425 264.5,-425 258.5,-419 258.5,-413 258.5,-413 258.5,-354 258.5,-354 258.5,-348 264.5,-342 270.5,-342 270.5,-342 393.5,-342 393.5,-342 399.5,-342 405.5,-348 405.5,-354 405.5,-354 405.5,-413 405.5,-413 405.5,-419 399.5,-425 393.5,-425\"/>\r\n",
       "<text text-anchor=\"middle\" x=\"332\" y=\"-409.8\" font-family=\"Helvetica,sans-Serif\" font-size=\"14.00\">preco &lt;= 59999.074</text>\r\n",
       "<text text-anchor=\"middle\" x=\"332\" y=\"-394.8\" font-family=\"Helvetica,sans-Serif\" font-size=\"14.00\">gini = 0.487</text>\r\n",
       "<text text-anchor=\"middle\" x=\"332\" y=\"-379.8\" font-family=\"Helvetica,sans-Serif\" font-size=\"14.00\">samples = 7500</text>\r\n",
       "<text text-anchor=\"middle\" x=\"332\" y=\"-364.8\" font-family=\"Helvetica,sans-Serif\" font-size=\"14.00\">value = [3150, 4350]</text>\r\n",
       "<text text-anchor=\"middle\" x=\"332\" y=\"-349.8\" font-family=\"Helvetica,sans-Serif\" font-size=\"14.00\">class = sim</text>\r\n",
       "</g>\r\n",
       "<!-- 1 -->\r\n",
       "<g id=\"node2\" class=\"node\"><title>1</title>\r\n",
       "<path fill=\"#52aae8\" stroke=\"black\" d=\"M275.5,-306C275.5,-306 152.5,-306 152.5,-306 146.5,-306 140.5,-300 140.5,-294 140.5,-294 140.5,-235 140.5,-235 140.5,-229 146.5,-223 152.5,-223 152.5,-223 275.5,-223 275.5,-223 281.5,-223 287.5,-229 287.5,-235 287.5,-235 287.5,-294 287.5,-294 287.5,-300 281.5,-306 275.5,-306\"/>\r\n",
       "<text text-anchor=\"middle\" x=\"214\" y=\"-290.8\" font-family=\"Helvetica,sans-Serif\" font-size=\"14.00\">preco &lt;= 40070.154</text>\r\n",
       "<text text-anchor=\"middle\" x=\"214\" y=\"-275.8\" font-family=\"Helvetica,sans-Serif\" font-size=\"14.00\">gini = 0.202</text>\r\n",
       "<text text-anchor=\"middle\" x=\"214\" y=\"-260.8\" font-family=\"Helvetica,sans-Serif\" font-size=\"14.00\">samples = 3248</text>\r\n",
       "<text text-anchor=\"middle\" x=\"214\" y=\"-245.8\" font-family=\"Helvetica,sans-Serif\" font-size=\"14.00\">value = [370, 2878]</text>\r\n",
       "<text text-anchor=\"middle\" x=\"214\" y=\"-230.8\" font-family=\"Helvetica,sans-Serif\" font-size=\"14.00\">class = sim</text>\r\n",
       "</g>\r\n",
       "<!-- 0&#45;&gt;1 -->\r\n",
       "<g id=\"edge1\" class=\"edge\"><title>0&#45;&gt;1</title>\r\n",
       "<path fill=\"none\" stroke=\"black\" d=\"M291.06,-341.907C281.725,-332.651 271.721,-322.732 262.117,-313.209\"/>\r\n",
       "<polygon fill=\"black\" stroke=\"black\" points=\"264.433,-310.576 254.867,-306.021 259.504,-315.547 264.433,-310.576\"/>\r\n",
       "<text text-anchor=\"middle\" x=\"254.974\" y=\"-327.321\" font-family=\"Helvetica,sans-Serif\" font-size=\"14.00\">True</text>\r\n",
       "</g>\r\n",
       "<!-- 6 -->\r\n",
       "<g id=\"node7\" class=\"node\"><title>6</title>\r\n",
       "<path fill=\"#f3c4a2\" stroke=\"black\" d=\"M534,-306C534,-306 368,-306 368,-306 362,-306 356,-300 356,-294 356,-294 356,-235 356,-235 356,-229 362,-223 368,-223 368,-223 534,-223 534,-223 540,-223 546,-229 546,-235 546,-235 546,-294 546,-294 546,-300 540,-306 534,-306\"/>\r\n",
       "<text text-anchor=\"middle\" x=\"451\" y=\"-290.8\" font-family=\"Helvetica,sans-Serif\" font-size=\"14.00\">km_por_ano &lt;= 24112.741</text>\r\n",
       "<text text-anchor=\"middle\" x=\"451\" y=\"-275.8\" font-family=\"Helvetica,sans-Serif\" font-size=\"14.00\">gini = 0.453</text>\r\n",
       "<text text-anchor=\"middle\" x=\"451\" y=\"-260.8\" font-family=\"Helvetica,sans-Serif\" font-size=\"14.00\">samples = 4252</text>\r\n",
       "<text text-anchor=\"middle\" x=\"451\" y=\"-245.8\" font-family=\"Helvetica,sans-Serif\" font-size=\"14.00\">value = [2780, 1472]</text>\r\n",
       "<text text-anchor=\"middle\" x=\"451\" y=\"-230.8\" font-family=\"Helvetica,sans-Serif\" font-size=\"14.00\">class = não</text>\r\n",
       "</g>\r\n",
       "<!-- 0&#45;&gt;6 -->\r\n",
       "<g id=\"edge6\" class=\"edge\"><title>0&#45;&gt;6</title>\r\n",
       "<path fill=\"none\" stroke=\"black\" d=\"M373.286,-341.907C382.701,-332.651 392.789,-322.732 402.476,-313.209\"/>\r\n",
       "<polygon fill=\"black\" stroke=\"black\" points=\"405.11,-315.527 409.787,-306.021 400.202,-310.536 405.11,-315.527\"/>\r\n",
       "<text text-anchor=\"middle\" x=\"409.575\" y=\"-327.32\" font-family=\"Helvetica,sans-Serif\" font-size=\"14.00\">False</text>\r\n",
       "</g>\r\n",
       "<!-- 2 -->\r\n",
       "<g id=\"node3\" class=\"node\"><title>2</title>\r\n",
       "<path fill=\"#399de5\" stroke=\"black\" d=\"M110,-179.5C110,-179.5 12,-179.5 12,-179.5 6,-179.5 7.10543e-015,-173.5 7.10543e-015,-167.5 7.10543e-015,-167.5 7.10543e-015,-123.5 7.10543e-015,-123.5 7.10543e-015,-117.5 6,-111.5 12,-111.5 12,-111.5 110,-111.5 110,-111.5 116,-111.5 122,-117.5 122,-123.5 122,-123.5 122,-167.5 122,-167.5 122,-173.5 116,-179.5 110,-179.5\"/>\r\n",
       "<text text-anchor=\"middle\" x=\"61\" y=\"-164.3\" font-family=\"Helvetica,sans-Serif\" font-size=\"14.00\">gini = 0.0</text>\r\n",
       "<text text-anchor=\"middle\" x=\"61\" y=\"-149.3\" font-family=\"Helvetica,sans-Serif\" font-size=\"14.00\">samples = 1441</text>\r\n",
       "<text text-anchor=\"middle\" x=\"61\" y=\"-134.3\" font-family=\"Helvetica,sans-Serif\" font-size=\"14.00\">value = [0, 1441]</text>\r\n",
       "<text text-anchor=\"middle\" x=\"61\" y=\"-119.3\" font-family=\"Helvetica,sans-Serif\" font-size=\"14.00\">class = sim</text>\r\n",
       "</g>\r\n",
       "<!-- 1&#45;&gt;2 -->\r\n",
       "<g id=\"edge2\" class=\"edge\"><title>1&#45;&gt;2</title>\r\n",
       "<path fill=\"none\" stroke=\"black\" d=\"M160.917,-222.907C145.189,-210.88 127.999,-197.735 112.38,-185.791\"/>\r\n",
       "<polygon fill=\"black\" stroke=\"black\" points=\"114.442,-182.961 104.372,-179.667 110.19,-188.522 114.442,-182.961\"/>\r\n",
       "</g>\r\n",
       "<!-- 3 -->\r\n",
       "<g id=\"node4\" class=\"node\"><title>3</title>\r\n",
       "<path fill=\"#6cb6ec\" stroke=\"black\" d=\"M275.5,-187C275.5,-187 152.5,-187 152.5,-187 146.5,-187 140.5,-181 140.5,-175 140.5,-175 140.5,-116 140.5,-116 140.5,-110 146.5,-104 152.5,-104 152.5,-104 275.5,-104 275.5,-104 281.5,-104 287.5,-110 287.5,-116 287.5,-116 287.5,-175 287.5,-175 287.5,-181 281.5,-187 275.5,-187\"/>\r\n",
       "<text text-anchor=\"middle\" x=\"214\" y=\"-171.8\" font-family=\"Helvetica,sans-Serif\" font-size=\"14.00\">preco &lt;= 40723.646</text>\r\n",
       "<text text-anchor=\"middle\" x=\"214\" y=\"-156.8\" font-family=\"Helvetica,sans-Serif\" font-size=\"14.00\">gini = 0.326</text>\r\n",
       "<text text-anchor=\"middle\" x=\"214\" y=\"-141.8\" font-family=\"Helvetica,sans-Serif\" font-size=\"14.00\">samples = 1807</text>\r\n",
       "<text text-anchor=\"middle\" x=\"214\" y=\"-126.8\" font-family=\"Helvetica,sans-Serif\" font-size=\"14.00\">value = [370, 1437]</text>\r\n",
       "<text text-anchor=\"middle\" x=\"214\" y=\"-111.8\" font-family=\"Helvetica,sans-Serif\" font-size=\"14.00\">class = sim</text>\r\n",
       "</g>\r\n",
       "<!-- 1&#45;&gt;3 -->\r\n",
       "<g id=\"edge3\" class=\"edge\"><title>1&#45;&gt;3</title>\r\n",
       "<path fill=\"none\" stroke=\"black\" d=\"M214,-222.907C214,-214.649 214,-205.864 214,-197.302\"/>\r\n",
       "<polygon fill=\"black\" stroke=\"black\" points=\"217.5,-197.021 214,-187.021 210.5,-197.021 217.5,-197.021\"/>\r\n",
       "</g>\r\n",
       "<!-- 4 -->\r\n",
       "<g id=\"node5\" class=\"node\"><title>4</title>\r\n",
       "<path fill=\"#9acdf2\" stroke=\"black\" d=\"M114.5,-68C114.5,-68 25.5,-68 25.5,-68 19.5,-68 13.5,-62 13.5,-56 13.5,-56 13.5,-12 13.5,-12 13.5,-6 19.5,-0 25.5,-0 25.5,-0 114.5,-0 114.5,-0 120.5,-0 126.5,-6 126.5,-12 126.5,-12 126.5,-56 126.5,-56 126.5,-62 120.5,-68 114.5,-68\"/>\r\n",
       "<text text-anchor=\"middle\" x=\"70\" y=\"-52.8\" font-family=\"Helvetica,sans-Serif\" font-size=\"14.00\">gini = 0.441</text>\r\n",
       "<text text-anchor=\"middle\" x=\"70\" y=\"-37.8\" font-family=\"Helvetica,sans-Serif\" font-size=\"14.00\">samples = 61</text>\r\n",
       "<text text-anchor=\"middle\" x=\"70\" y=\"-22.8\" font-family=\"Helvetica,sans-Serif\" font-size=\"14.00\">value = [20, 41]</text>\r\n",
       "<text text-anchor=\"middle\" x=\"70\" y=\"-7.8\" font-family=\"Helvetica,sans-Serif\" font-size=\"14.00\">class = sim</text>\r\n",
       "</g>\r\n",
       "<!-- 3&#45;&gt;4 -->\r\n",
       "<g id=\"edge4\" class=\"edge\"><title>3&#45;&gt;4</title>\r\n",
       "<path fill=\"none\" stroke=\"black\" d=\"M160.38,-103.726C147.785,-94.1494 134.387,-83.9611 121.871,-74.4438\"/>\r\n",
       "<polygon fill=\"black\" stroke=\"black\" points=\"123.87,-71.5666 113.791,-68.2996 119.633,-77.1386 123.87,-71.5666\"/>\r\n",
       "</g>\r\n",
       "<!-- 5 -->\r\n",
       "<g id=\"node6\" class=\"node\"><title>5</title>\r\n",
       "<path fill=\"#6bb6ec\" stroke=\"black\" d=\"M271,-68C271,-68 157,-68 157,-68 151,-68 145,-62 145,-56 145,-56 145,-12 145,-12 145,-6 151,-0 157,-0 157,-0 271,-0 271,-0 277,-0 283,-6 283,-12 283,-12 283,-56 283,-56 283,-62 277,-68 271,-68\"/>\r\n",
       "<text text-anchor=\"middle\" x=\"214\" y=\"-52.8\" font-family=\"Helvetica,sans-Serif\" font-size=\"14.00\">gini = 0.321</text>\r\n",
       "<text text-anchor=\"middle\" x=\"214\" y=\"-37.8\" font-family=\"Helvetica,sans-Serif\" font-size=\"14.00\">samples = 1746</text>\r\n",
       "<text text-anchor=\"middle\" x=\"214\" y=\"-22.8\" font-family=\"Helvetica,sans-Serif\" font-size=\"14.00\">value = [350, 1396]</text>\r\n",
       "<text text-anchor=\"middle\" x=\"214\" y=\"-7.8\" font-family=\"Helvetica,sans-Serif\" font-size=\"14.00\">class = sim</text>\r\n",
       "</g>\r\n",
       "<!-- 3&#45;&gt;5 -->\r\n",
       "<g id=\"edge5\" class=\"edge\"><title>3&#45;&gt;5</title>\r\n",
       "<path fill=\"none\" stroke=\"black\" d=\"M214,-103.726C214,-95.5175 214,-86.8595 214,-78.56\"/>\r\n",
       "<polygon fill=\"black\" stroke=\"black\" points=\"217.5,-78.2996 214,-68.2996 210.5,-78.2996 217.5,-78.2996\"/>\r\n",
       "</g>\r\n",
       "<!-- 7 -->\r\n",
       "<g id=\"node8\" class=\"node\"><title>7</title>\r\n",
       "<path fill=\"#fcf0e7\" stroke=\"black\" d=\"M512,-187C512,-187 390,-187 390,-187 384,-187 378,-181 378,-175 378,-175 378,-116 378,-116 378,-110 384,-104 390,-104 390,-104 512,-104 512,-104 518,-104 524,-110 524,-116 524,-116 524,-175 524,-175 524,-181 518,-187 512,-187\"/>\r\n",
       "<text text-anchor=\"middle\" x=\"451\" y=\"-171.8\" font-family=\"Helvetica,sans-Serif\" font-size=\"14.00\">preco &lt;= 99974.41</text>\r\n",
       "<text text-anchor=\"middle\" x=\"451\" y=\"-156.8\" font-family=\"Helvetica,sans-Serif\" font-size=\"14.00\">gini = 0.498</text>\r\n",
       "<text text-anchor=\"middle\" x=\"451\" y=\"-141.8\" font-family=\"Helvetica,sans-Serif\" font-size=\"14.00\">samples = 2649</text>\r\n",
       "<text text-anchor=\"middle\" x=\"451\" y=\"-126.8\" font-family=\"Helvetica,sans-Serif\" font-size=\"14.00\">value = [1409, 1240]</text>\r\n",
       "<text text-anchor=\"middle\" x=\"451\" y=\"-111.8\" font-family=\"Helvetica,sans-Serif\" font-size=\"14.00\">class = não</text>\r\n",
       "</g>\r\n",
       "<!-- 6&#45;&gt;7 -->\r\n",
       "<g id=\"edge7\" class=\"edge\"><title>6&#45;&gt;7</title>\r\n",
       "<path fill=\"none\" stroke=\"black\" d=\"M451,-222.907C451,-214.649 451,-205.864 451,-197.302\"/>\r\n",
       "<polygon fill=\"black\" stroke=\"black\" points=\"454.5,-197.021 451,-187.021 447.5,-197.021 454.5,-197.021\"/>\r\n",
       "</g>\r\n",
       "<!-- 10 -->\r\n",
       "<g id=\"node11\" class=\"node\"><title>10</title>\r\n",
       "<path fill=\"#e9965b\" stroke=\"black\" d=\"M735.5,-187C735.5,-187 604.5,-187 604.5,-187 598.5,-187 592.5,-181 592.5,-175 592.5,-175 592.5,-116 592.5,-116 592.5,-110 598.5,-104 604.5,-104 604.5,-104 735.5,-104 735.5,-104 741.5,-104 747.5,-110 747.5,-116 747.5,-116 747.5,-175 747.5,-175 747.5,-181 741.5,-187 735.5,-187\"/>\r\n",
       "<text text-anchor=\"middle\" x=\"670\" y=\"-171.8\" font-family=\"Helvetica,sans-Serif\" font-size=\"14.00\">preco &lt;= 100076.957</text>\r\n",
       "<text text-anchor=\"middle\" x=\"670\" y=\"-156.8\" font-family=\"Helvetica,sans-Serif\" font-size=\"14.00\">gini = 0.248</text>\r\n",
       "<text text-anchor=\"middle\" x=\"670\" y=\"-141.8\" font-family=\"Helvetica,sans-Serif\" font-size=\"14.00\">samples = 1603</text>\r\n",
       "<text text-anchor=\"middle\" x=\"670\" y=\"-126.8\" font-family=\"Helvetica,sans-Serif\" font-size=\"14.00\">value = [1371, 232]</text>\r\n",
       "<text text-anchor=\"middle\" x=\"670\" y=\"-111.8\" font-family=\"Helvetica,sans-Serif\" font-size=\"14.00\">class = não</text>\r\n",
       "</g>\r\n",
       "<!-- 6&#45;&gt;10 -->\r\n",
       "<g id=\"edge10\" class=\"edge\"><title>6&#45;&gt;10</title>\r\n",
       "<path fill=\"none\" stroke=\"black\" d=\"M526.981,-222.907C545.751,-212.879 565.976,-202.075 585.139,-191.837\"/>\r\n",
       "<polygon fill=\"black\" stroke=\"black\" points=\"586.982,-194.82 594.153,-187.021 583.684,-188.646 586.982,-194.82\"/>\r\n",
       "</g>\r\n",
       "<!-- 8 -->\r\n",
       "<g id=\"node9\" class=\"node\"><title>8</title>\r\n",
       "<path fill=\"#f9e0cf\" stroke=\"black\" d=\"M427,-68C427,-68 313,-68 313,-68 307,-68 301,-62 301,-56 301,-56 301,-12 301,-12 301,-6 307,-0 313,-0 313,-0 427,-0 427,-0 433,-0 439,-6 439,-12 439,-12 439,-56 439,-56 439,-62 433,-68 427,-68\"/>\r\n",
       "<text text-anchor=\"middle\" x=\"370\" y=\"-52.8\" font-family=\"Helvetica,sans-Serif\" font-size=\"14.00\">gini = 0.49</text>\r\n",
       "<text text-anchor=\"middle\" x=\"370\" y=\"-37.8\" font-family=\"Helvetica,sans-Serif\" font-size=\"14.00\">samples = 2223</text>\r\n",
       "<text text-anchor=\"middle\" x=\"370\" y=\"-22.8\" font-family=\"Helvetica,sans-Serif\" font-size=\"14.00\">value = [1266, 957]</text>\r\n",
       "<text text-anchor=\"middle\" x=\"370\" y=\"-7.8\" font-family=\"Helvetica,sans-Serif\" font-size=\"14.00\">class = não</text>\r\n",
       "</g>\r\n",
       "<!-- 7&#45;&gt;8 -->\r\n",
       "<g id=\"edge8\" class=\"edge\"><title>7&#45;&gt;8</title>\r\n",
       "<path fill=\"none\" stroke=\"black\" d=\"M420.839,-103.726C414.227,-94.7878 407.221,-85.3168 400.592,-76.3558\"/>\r\n",
       "<polygon fill=\"black\" stroke=\"black\" points=\"403.393,-74.2576 394.633,-68.2996 397.766,-78.4206 403.393,-74.2576\"/>\r\n",
       "</g>\r\n",
       "<!-- 9 -->\r\n",
       "<g id=\"node10\" class=\"node\"><title>9</title>\r\n",
       "<path fill=\"#9dcff2\" stroke=\"black\" d=\"M575,-68C575,-68 469,-68 469,-68 463,-68 457,-62 457,-56 457,-56 457,-12 457,-12 457,-6 463,-0 469,-0 469,-0 575,-0 575,-0 581,-0 587,-6 587,-12 587,-12 587,-56 587,-56 587,-62 581,-68 575,-68\"/>\r\n",
       "<text text-anchor=\"middle\" x=\"522\" y=\"-52.8\" font-family=\"Helvetica,sans-Serif\" font-size=\"14.00\">gini = 0.446</text>\r\n",
       "<text text-anchor=\"middle\" x=\"522\" y=\"-37.8\" font-family=\"Helvetica,sans-Serif\" font-size=\"14.00\">samples = 426</text>\r\n",
       "<text text-anchor=\"middle\" x=\"522\" y=\"-22.8\" font-family=\"Helvetica,sans-Serif\" font-size=\"14.00\">value = [143, 283]</text>\r\n",
       "<text text-anchor=\"middle\" x=\"522\" y=\"-7.8\" font-family=\"Helvetica,sans-Serif\" font-size=\"14.00\">class = sim</text>\r\n",
       "</g>\r\n",
       "<!-- 7&#45;&gt;9 -->\r\n",
       "<g id=\"edge9\" class=\"edge\"><title>7&#45;&gt;9</title>\r\n",
       "<path fill=\"none\" stroke=\"black\" d=\"M477.438,-103.726C483.115,-94.9703 489.124,-85.7032 494.829,-76.9051\"/>\r\n",
       "<polygon fill=\"black\" stroke=\"black\" points=\"497.905,-78.5943 500.408,-68.2996 492.031,-74.786 497.905,-78.5943\"/>\r\n",
       "</g>\r\n",
       "<!-- 11 -->\r\n",
       "<g id=\"node12\" class=\"node\"><title>11</title>\r\n",
       "<path fill=\"#e68742\" stroke=\"black\" d=\"M723,-68C723,-68 617,-68 617,-68 611,-68 605,-62 605,-56 605,-56 605,-12 605,-12 605,-6 611,-0 617,-0 617,-0 723,-0 723,-0 729,-0 735,-6 735,-12 735,-12 735,-56 735,-56 735,-62 729,-68 723,-68\"/>\r\n",
       "<text text-anchor=\"middle\" x=\"670\" y=\"-52.8\" font-family=\"Helvetica,sans-Serif\" font-size=\"14.00\">gini = 0.086</text>\r\n",
       "<text text-anchor=\"middle\" x=\"670\" y=\"-37.8\" font-family=\"Helvetica,sans-Serif\" font-size=\"14.00\">samples = 1356</text>\r\n",
       "<text text-anchor=\"middle\" x=\"670\" y=\"-22.8\" font-family=\"Helvetica,sans-Serif\" font-size=\"14.00\">value = [1295, 61]</text>\r\n",
       "<text text-anchor=\"middle\" x=\"670\" y=\"-7.8\" font-family=\"Helvetica,sans-Serif\" font-size=\"14.00\">class = não</text>\r\n",
       "</g>\r\n",
       "<!-- 10&#45;&gt;11 -->\r\n",
       "<g id=\"edge11\" class=\"edge\"><title>10&#45;&gt;11</title>\r\n",
       "<path fill=\"none\" stroke=\"black\" d=\"M670,-103.726C670,-95.5175 670,-86.8595 670,-78.56\"/>\r\n",
       "<polygon fill=\"black\" stroke=\"black\" points=\"673.5,-78.2996 670,-68.2996 666.5,-78.2996 673.5,-78.2996\"/>\r\n",
       "</g>\r\n",
       "<!-- 12 -->\r\n",
       "<g id=\"node13\" class=\"node\"><title>12</title>\r\n",
       "<path fill=\"#91c9f1\" stroke=\"black\" d=\"M863,-68C863,-68 765,-68 765,-68 759,-68 753,-62 753,-56 753,-56 753,-12 753,-12 753,-6 759,-0 765,-0 765,-0 863,-0 863,-0 869,-0 875,-6 875,-12 875,-12 875,-56 875,-56 875,-62 869,-68 863,-68\"/>\r\n",
       "<text text-anchor=\"middle\" x=\"814\" y=\"-52.8\" font-family=\"Helvetica,sans-Serif\" font-size=\"14.00\">gini = 0.426</text>\r\n",
       "<text text-anchor=\"middle\" x=\"814\" y=\"-37.8\" font-family=\"Helvetica,sans-Serif\" font-size=\"14.00\">samples = 247</text>\r\n",
       "<text text-anchor=\"middle\" x=\"814\" y=\"-22.8\" font-family=\"Helvetica,sans-Serif\" font-size=\"14.00\">value = [76, 171]</text>\r\n",
       "<text text-anchor=\"middle\" x=\"814\" y=\"-7.8\" font-family=\"Helvetica,sans-Serif\" font-size=\"14.00\">class = sim</text>\r\n",
       "</g>\r\n",
       "<!-- 10&#45;&gt;12 -->\r\n",
       "<g id=\"edge12\" class=\"edge\"><title>10&#45;&gt;12</title>\r\n",
       "<path fill=\"none\" stroke=\"black\" d=\"M723.62,-103.726C736.215,-94.1494 749.613,-83.9611 762.129,-74.4438\"/>\r\n",
       "<polygon fill=\"black\" stroke=\"black\" points=\"764.367,-77.1386 770.209,-68.2996 760.13,-71.5666 764.367,-77.1386\"/>\r\n",
       "</g>\r\n",
       "</g>\r\n",
       "</svg>\r\n"
      ],
      "text/plain": [
       "<graphviz.files.Source at 0x24beb59e7c0>"
      ]
     },
     "execution_count": 65,
     "metadata": {},
     "output_type": "execute_result"
    }
   ],
   "source": [
    "SEED = 5\n",
    "np.random.seed(SEED)\n",
    "raw_treino_x, raw_teste_x, treino_y, teste_y = train_test_split(x, y, test_size = 0.25,\n",
    "                                                         stratify = y)\n",
    "print(\"Treinaremos com %d elementos e testaremos com %d elementos\" % (len(treino_x), len(teste_x)))\n",
    "\n",
    "modelo = DecisionTreeClassifier(max_depth=3)\n",
    "modelo.fit(raw_treino_x, treino_y)\n",
    "previsoes = modelo.predict(raw_teste_x)\n",
    "\n",
    "# Passar nome das features\n",
    "# Quadros coloridos e com bordas arredondadas (filled = True, rounded _ True)\n",
    "from sklearn.tree import export_graphviz\n",
    "import graphviz\n",
    "\n",
    "features = x.columns\n",
    "dot_data = export_graphviz(modelo, out_file=None,\n",
    "                           filled = True, rounded = True,\n",
    "                           feature_names = features,\n",
    "                          class_names = [\"não\", \"sim\"])\n",
    "grafico = graphviz.Source(dot_data)\n",
    "grafico"
   ]
  },
  {
   "cell_type": "markdown",
   "id": "fa80cc66-cdca-4f3f-9a69-45775391aa34",
   "metadata": {},
   "source": [
    "Alterando o máximo de profundidade (max_depth) para 3, obtermos uma acurácia melhor, nosso gráfico será um pouco maior, com uma profundidade máxima de 3 decisões antes dos resultados."
   ]
  },
  {
   "cell_type": "markdown",
   "id": "87746972-52dc-4cdf-8187-995d090d5524",
   "metadata": {},
   "source": [
    "Os algoritmos do tipo árvore de decisão possuem diversos parâmetros, como o critério para separar os nós da árvore, o mínimo de samples para separar um nó ou definir um nó final, assim como a profundidade."
   ]
  },
  {
   "cell_type": "code",
   "execution_count": null,
   "id": "accbac33-210c-446b-927c-378f62f4bd9c",
   "metadata": {},
   "outputs": [],
   "source": []
  }
 ],
 "metadata": {
  "kernelspec": {
   "display_name": "Python 3 (ipykernel)",
   "language": "python",
   "name": "python3"
  },
  "language_info": {
   "codemirror_mode": {
    "name": "ipython",
    "version": 3
   },
   "file_extension": ".py",
   "mimetype": "text/x-python",
   "name": "python",
   "nbconvert_exporter": "python",
   "pygments_lexer": "ipython3",
   "version": "3.9.6"
  }
 },
 "nbformat": 4,
 "nbformat_minor": 5
}
